{
 "cells": [
  {
   "cell_type": "markdown",
   "source": [
    "遗传算法实践——OneMax问题"
   ],
   "metadata": {
    "collapsed": false
   },
   "id": "48e366c68b834fe9"
  },
  {
   "cell_type": "code",
   "outputs": [],
   "source": [
    "from deap import base\n",
    "from deap import creator,tools\n",
    "import random\n",
    "import matplotlib.pyplot as plt"
   ],
   "metadata": {
    "collapsed": false,
    "ExecuteTime": {
     "end_time": "2024-01-20T08:22:26.464125700Z",
     "start_time": "2024-01-20T08:22:25.017039400Z"
    }
   },
   "id": "7a5075575f174044",
   "execution_count": 2
  },
  {
   "cell_type": "code",
   "outputs": [],
   "source": [
    "#超参数声明\n",
    "ONE_MAX_LENGTH = 100    #length of bit string to be optimized\n",
    "POPULATION_SIZE = 200   #number of individuals in population\n",
    "P_CROSSOVER = 0.9       #probability for crossover\n",
    "P_MUTATION = 0.1        #probability for mutating an individual\n",
    "MAX_GENERATION = 50     #max number of generations for stopping condition\n"
   ],
   "metadata": {
    "collapsed": false,
    "ExecuteTime": {
     "end_time": "2024-01-20T08:22:26.467638500Z",
     "start_time": "2024-01-20T08:22:26.463126100Z"
    }
   },
   "id": "ec35fa985bee0245",
   "execution_count": 3
  },
  {
   "cell_type": "code",
   "outputs": [],
   "source": [
    "toolbox = base.Toolbox()\n",
    "toolbox.register(\"zeroOrOne\",random.randint,0,1)\n",
    "\n",
    "creator.create(\"FitnessMax\",base.Fitness,weights=(1.0,))"
   ],
   "metadata": {
    "collapsed": false,
    "ExecuteTime": {
     "end_time": "2024-01-20T08:22:26.478705700Z",
     "start_time": "2024-01-20T08:22:26.471201Z"
    }
   },
   "id": "7d2b765761f4bc72",
   "execution_count": 4
  },
  {
   "cell_type": "code",
   "outputs": [],
   "source": [
    "creator.create(\"Individual\",list,fitness=creator.FitnessMax)\n",
    "toolbox.register(\"IndividualCreator\",tools.initRepeat,creator.Individual,toolbox.zeroOrOne,ONE_MAX_LENGTH)"
   ],
   "metadata": {
    "collapsed": false,
    "ExecuteTime": {
     "end_time": "2024-01-20T08:22:26.503901500Z",
     "start_time": "2024-01-20T08:22:26.481694300Z"
    }
   },
   "id": "ea9b48ffd5b78402",
   "execution_count": 5
  },
  {
   "cell_type": "code",
   "outputs": [],
   "source": [
    "toolbox.register(\"populationCreator\",tools.initRepeat,list,toolbox.IndividualCreator)\n"
   ],
   "metadata": {
    "collapsed": false,
    "ExecuteTime": {
     "end_time": "2024-01-20T08:22:26.506100Z",
     "start_time": "2024-01-20T08:22:26.487176700Z"
    }
   },
   "id": "a354daea4973f3fb",
   "execution_count": 6
  },
  {
   "cell_type": "code",
   "outputs": [],
   "source": [
    "def oneMaxFitness(individual):\n",
    "    return sum(individual),#deap中的适用度表示为元组，因此，当返回单个值时，需要用逗号将其声明为元组。\n",
    "toolbox.register(\"evaluate\",oneMaxFitness)\n"
   ],
   "metadata": {
    "collapsed": false,
    "ExecuteTime": {
     "end_time": "2024-01-20T08:22:26.519256800Z",
     "start_time": "2024-01-20T08:22:26.504899800Z"
    }
   },
   "id": "2f2efbad61dba8a7",
   "execution_count": 7
  },
  {
   "cell_type": "code",
   "outputs": [],
   "source": [
    "toolbox.register(\"select\",tools.selTournament,tournsize=3)\n",
    "toolbox.register(\"mate\",tools.cxOnePoint)\n",
    "# mutFlipBit函数遍历个体的所有特征，并且对于每个特征值，\n",
    "# 都将使用indpb参数值作为翻转（应用not运算符）该特征值的概率。\n",
    "# 该值与突变概率无关，后者由P_MUTATION常数设置。\n",
    "# 突变概率用于确定是否为种群中的给定个体调用mutFlipBit函数\n",
    "toolbox.register(\"mutate\",tools.mutFlipBit,indpb=1.0/ONE_MAX_LENGTH)\n"
   ],
   "metadata": {
    "collapsed": false,
    "ExecuteTime": {
     "end_time": "2024-01-20T08:22:26.533261700Z",
     "start_time": "2024-01-20T08:22:26.522111300Z"
    }
   },
   "id": "870deb4d5eaf19ad",
   "execution_count": 8
  },
  {
   "cell_type": "code",
   "outputs": [],
   "source": [
    "def main():\n",
    "    population = toolbox.populationCreator(n=POPULATION_SIZE)\n",
    "    generationCounter = 0\n",
    "    fitnessValues = list(map(toolbox.evaluate,population))\n",
    "\n",
    "    for individual,fitnessValue in zip(population,fitnessValues):\n",
    "        individual.fitness.values = fitnessValue\n",
    "\n",
    "    fitnessValues = [individual.fitness.values[0] for individual in population]\n",
    "\n",
    "    maxFitnessValues = []\n",
    "    meanFitnessValues = []\n",
    "\n",
    "    while max(fitnessValues) < ONE_MAX_LENGTH and generationCounter < MAX_GENERATION:\n",
    "        generationCounter = generationCounter + 1\n",
    "        \n",
    "        offspring = toolbox.select(population,len(population))\n",
    "        offspring = list(map(toolbox.clone,offspring))\n",
    "\n",
    "        for child1,child2 in zip(offspring[::2],offspring[1::2]):\n",
    "            if random.random() < P_CROSSOVER:\n",
    "                toolbox.mate(child1,child2)\n",
    "                del child1.fitness.values\n",
    "                del child2.fitness.values\n",
    "        \n",
    "        for mutant in offspring:\n",
    "            if random.random() < P_MUTATION:\n",
    "                toolbox.mutate(mutant)\n",
    "                del mutant.fitness.values\n",
    "        \n",
    "        freshIndividuals = [ind for ind in offspring if not ind.fitness.valid]\n",
    "        freshFitnessValues = list(map(toolbox.evaluate,freshIndividuals))\n",
    "        for individual,fitnessValue in zip(freshIndividuals,freshFitnessValues):\n",
    "            individual.fitness.values = fitnessValue\n",
    "        \n",
    "        population[:] = offspring\n",
    "\n",
    "        fitnessValues = [ind.fitness.values[0] for ind in population]\n",
    "\n",
    "        maxFitnessValue = max(fitnessValues)\n",
    "        meanFitnessValue = sum(fitnessValues) / len(population)\n",
    "        maxFitnessValues.append(maxFitnessValue)\n",
    "        meanFitnessValues.append(meanFitnessValue)\n",
    "        print(\"- Generation {}: Max Fitness = {}, Avg Fitness = {}\".format(generationCounter,maxFitnessValue,meanFitnessValue))\n",
    "\n",
    "        best_index = fitnessValues.index(max(fitnessValues))\n",
    "        print(\"Best Indivadual = \", *population[best_index],\"\\n\")\n",
    "\n",
    "    plt.plot(maxFitnessValues,color=\"red\")\n",
    "    plt.plot(meanFitnessValues,color=\"green\")\n",
    "    plt.xlabel(\"Generation\")\n",
    "    plt.ylabel(\"Max / Average Fitness\")\n",
    "    plt.title(\"Max and Average fitness over Generation\")\n",
    "    plt.show()\n"
   ],
   "metadata": {
    "collapsed": false,
    "ExecuteTime": {
     "end_time": "2024-01-20T08:22:26.573312300Z",
     "start_time": "2024-01-20T08:22:26.540582600Z"
    }
   },
   "id": "b8998bb3d6b5bb83",
   "execution_count": 9
  },
  {
   "cell_type": "markdown",
   "source": [
    "# 动手写遗传算法"
   ],
   "metadata": {
    "collapsed": false
   },
   "id": "12e0dbbe0b117fec"
  },
  {
   "cell_type": "code",
   "outputs": [],
   "source": [
    "import numpy as np\n",
    "a=np.random.randint(0,50,(1,3))\n",
    "inheritedIndividual = 70"
   ],
   "metadata": {
    "collapsed": false,
    "ExecuteTime": {
     "end_time": "2024-01-20T08:22:26.581125800Z",
     "start_time": "2024-01-20T08:22:26.551928600Z"
    }
   },
   "id": "f6929eca02866679",
   "execution_count": 10
  },
  {
   "cell_type": "code",
   "outputs": [
    {
     "name": "stdout",
     "output_type": "stream",
     "text": [
      "(100, 3)\n",
      "[[ 1  1  1]\n",
      " [ 5  7  8]\n",
      " [ 4 18  2]\n",
      " [14  7  2]\n",
      " [ 3  8 10]\n",
      " [11  8  2]\n",
      " [ 8 11  2]\n",
      " [ 0  4  2]\n",
      " [ 3  1 15]\n",
      " [ 2  1 14]\n",
      " [10  5  7]\n",
      " [ 4  1  3]\n",
      " [15  4  2]\n",
      " [ 0 13  9]\n",
      " [ 5 12  7]\n",
      " [ 3  5 14]\n",
      " [ 6  4  0]\n",
      " [11  1  9]\n",
      " [15  7  3]\n",
      " [ 2 10  1]\n",
      " [23  0  2]\n",
      " [16  0  9]\n",
      " [ 4 19  2]\n",
      " [20  7  2]\n",
      " [ 6 16  3]\n",
      " [ 0 11  4]\n",
      " [ 1 17  2]\n",
      " [25  3  1]\n",
      " [13  0  8]\n",
      " [ 3  2 13]\n",
      " [18  0  4]\n",
      " [13  8  2]\n",
      " [ 5  7  6]\n",
      " [11 16  0]\n",
      " [16  5  1]\n",
      " [ 5 17  3]\n",
      " [ 1 17  2]\n",
      " [12  4  0]\n",
      " [10  1 12]\n",
      " [ 3 11  0]\n",
      " [20  5  2]\n",
      " [24  3  2]\n",
      " [14  1  9]\n",
      " [10  9  5]\n",
      " [ 4  8  0]\n",
      " [ 0 19  2]\n",
      " [11  7  6]\n",
      " [15  6  6]\n",
      " [28  2  1]\n",
      " [12 14  0]\n",
      " [ 0 12  3]\n",
      " [ 6  1  3]\n",
      " [14  6  2]\n",
      " [17 10  1]\n",
      " [13  3  7]\n",
      " [ 3  7 10]\n",
      " [10  6  0]\n",
      " [ 8  7  4]\n",
      " [ 5 10  2]\n",
      " [ 4 15  3]\n",
      " [ 5  4  9]\n",
      " [12 12  0]\n",
      " [ 6  3  1]\n",
      " [12 10  0]\n",
      " [ 9  5  5]\n",
      " [ 3  5 10]\n",
      " [ 6  3  0]\n",
      " [ 7  9  5]\n",
      " [22  7  1]\n",
      " [ 4  0  1]\n",
      " [10 13  1]\n",
      " [ 8  7  4]\n",
      " [ 0 16  0]\n",
      " [ 7 15  0]\n",
      " [12  0  3]\n",
      " [ 3  0  9]\n",
      " [ 3  5 13]\n",
      " [ 7  8  7]\n",
      " [ 1 14  2]\n",
      " [ 4  5 13]\n",
      " [ 9 10  0]\n",
      " [26  1  3]\n",
      " [14  3  9]\n",
      " [ 2  0  5]\n",
      " [26  2  1]\n",
      " [ 1  6  3]\n",
      " [ 8  4 10]\n",
      " [ 4 16  0]\n",
      " [ 4  3 14]\n",
      " [23  3  3]\n",
      " [19  4  2]\n",
      " [13  3  6]\n",
      " [12  0  3]\n",
      " [11  0  0]\n",
      " [ 5  0 14]\n",
      " [13  2  1]\n",
      " [ 1 19  1]\n",
      " [ 2 10  3]\n",
      " [ 2  6 10]\n",
      " [20  1  2]]\n"
     ]
    }
   ],
   "source": [
    "coefficient=np.array([3,4,5])\n",
    "right=100\n",
    "maxSize=100\n",
    "def generate(coefficient,right,maxSize):\n",
    "    individual=np.array([[1,1,1]])\n",
    "    while np.size(individual,0)<maxSize:\n",
    "        ans=np.random.randint(0,50,(1,3))\n",
    "        if np.dot(ans,coefficient)<right:\n",
    "            individual=np.vstack((individual,ans))\n",
    "    return individual\n",
    "individual=generate(coefficient,right,maxSize)\n",
    "print(individual.shape)\n",
    "print(individual)"
   ],
   "metadata": {
    "collapsed": false,
    "ExecuteTime": {
     "end_time": "2024-01-20T08:22:26.649764200Z",
     "start_time": "2024-01-20T08:22:26.567073600Z"
    }
   },
   "id": "febb55522d0225d6",
   "execution_count": 11
  },
  {
   "cell_type": "markdown",
   "source": [],
   "metadata": {
    "collapsed": false
   },
   "id": "b0ca9b38ae4f98d1"
  },
  {
   "cell_type": "code",
   "outputs": [],
   "source": [
    "# def calFitness(individuals):\n",
    "#     fitness=[]\n",
    "#     for ind in individuals:\n",
    "#         fitness.append(sum(ind))\n",
    "#     return fitness\n",
    "# \n",
    "# def inheritance(individuals,sort):\n",
    "#     new_individuals=[]\n",
    "#     for i in range(len(individuals)):\n",
    "#         if sort[i]<inheritedIndividual:\n",
    "#             new_individuals.append(individuals[i])\n",
    "#     return new_individuals\n",
    "# \n",
    "# def variance(individuals,new_individuals):\n",
    "# \n",
    "#     while np.size(new_individuals,0)<maxSize:\n",
    "#         \n",
    "#         i=random.randint(0,maxSize-1)\n",
    "#         ind=individuals[i]\n",
    "#         ind[0]=ind[0]+random.gauss(5)\n",
    "#         ind[1]=ind[1]+random.gauss(3)\n",
    "#         ind[2]=ind[2]+random.gauss(2)\n",
    "#         ind=np.array([ind])\n",
    "#         if np.dot(ind,coefficient)<right:\n",
    "#             new_individuals=np.vstack((new_individuals,ind))\n",
    "#     return new_individuals\n",
    "#             \n",
    "# fitness=calFitness(individual)\n",
    "# sort=np.argsort(fitness)\n",
    "# circle=1\n",
    "# print(max(fitness))\n",
    "# while max(fitness)<50:\n",
    "#     circle=circle+1\n",
    "#     new_individuals=inheritance(individual,sort)\n",
    "#     new_individuals=variance(individual,new_individuals)\n",
    "#     new_individuals=np.array(new_individuals)\n",
    "#     fitness=calFitness(new_individuals)\n",
    "#     sort=np.argsort(fitness)\n",
    "#     print(f\"when in circle: {circle}, the max fitness is {max(fitness)},the individuals are {new_individuals}\")\n",
    "#     "
   ],
   "metadata": {
    "collapsed": false,
    "ExecuteTime": {
     "end_time": "2024-01-20T08:22:26.652949500Z",
     "start_time": "2024-01-20T08:22:26.648680100Z"
    }
   },
   "id": "9a713bec5455534",
   "execution_count": 12
  },
  {
   "cell_type": "code",
   "outputs": [
    {
     "name": "stdout",
     "output_type": "stream",
     "text": [
      "[7, 8, 9] [[1 2 3]\n",
      " [4 5 6]\n",
      " [7 8 9]]\n",
      "[7, 111111, 9] [[1 2 3]\n",
      " [4 5 6]\n",
      " [7 8 9]]\n"
     ]
    }
   ],
   "source": [
    "temp=np.array([[1,2,3],[4,5,6],[7,8,9]])\n",
    "b=temp[2]\n",
    "b=list(b)\n",
    "print(b,temp)\n",
    "b[1]=111111\n",
    "np.array(b)\n",
    "print(b,temp)"
   ],
   "metadata": {
    "collapsed": false,
    "ExecuteTime": {
     "end_time": "2024-01-20T09:34:49.046945300Z",
     "start_time": "2024-01-20T09:34:49.020021600Z"
    }
   },
   "id": "ec069b920753c975",
   "execution_count": 32
  }
 ],
 "metadata": {
  "kernelspec": {
   "display_name": "Python 3",
   "language": "python",
   "name": "python3"
  },
  "language_info": {
   "codemirror_mode": {
    "name": "ipython",
    "version": 2
   },
   "file_extension": ".py",
   "mimetype": "text/x-python",
   "name": "python",
   "nbconvert_exporter": "python",
   "pygments_lexer": "ipython2",
   "version": "2.7.6"
  }
 },
 "nbformat": 4,
 "nbformat_minor": 5
}
