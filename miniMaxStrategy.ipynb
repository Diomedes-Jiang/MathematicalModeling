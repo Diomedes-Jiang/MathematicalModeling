{
 "cells": [
  {
   "cell_type": "markdown",
   "source": [
    "最大最小算法：找出失败的最大可能性的最小值的算法"
   ],
   "metadata": {
    "collapsed": false
   },
   "id": "20c97ff2fc1ade72"
  },
  {
   "cell_type": "markdown",
   "source": [
    "到十个城市提供补给的地点应该设在哪里"
   ],
   "metadata": {
    "collapsed": false
   },
   "id": "bc857fe12807fb70"
  },
  {
   "cell_type": "code",
   "execution_count": 5,
   "id": "initial_id",
   "metadata": {
    "collapsed": true,
    "ExecuteTime": {
     "end_time": "2024-01-20T05:37:26.817249Z",
     "start_time": "2024-01-20T05:37:26.788143300Z"
    }
   },
   "outputs": [
    {
     "data": {
      "text/plain": "array([[ 1,  2],\n       [ 4, 10],\n       [ 3,  8],\n       [ 5, 18],\n       [ 9,  1],\n       [12,  4],\n       [ 6,  5],\n       [20, 10],\n       [17,  8],\n       [ 8,  9]])"
     },
     "execution_count": 5,
     "metadata": {},
     "output_type": "execute_result"
    }
   ],
   "source": [
    "import numpy as np\n",
    "a=[1,4,3,5,9,12,6,20,17,8] # 十个目标地点的横坐标\n",
    "b=[2,10,8,18,1,4,5,10,8,9]\n",
    "# x,y的取值范围\n",
    "x=[3,4,5,6,7,8] \n",
    "y=[4,5,6,7,8,9,10]\n",
    "\n",
    "points=np.array(a)\n",
    "points=points.reshape((-1,1))\n",
    "points=np.hstack((points,np.array(b).reshape((-1,1))))\n",
    "points"
   ]
  },
  {
   "cell_type": "code",
   "outputs": [
    {
     "name": "stdout",
     "output_type": "stream",
     "text": [
      "14\n"
     ]
    }
   ],
   "source": [
    "def calDistance(POS,points):\n",
    "    dis=0\n",
    "    for x,y in points:\n",
    "        if abs(x-POS[0])+abs(y-POS[1])>dis:\n",
    "            dis=abs(x-POS[0])+abs(y-POS[1])\n",
    "    \n",
    "    return dis\n",
    "\n",
    "def miniMax(x,y,points):\n",
    "    maxx=[]\n",
    "    for i in x:\n",
    "        for j in y:\n",
    "            maxx.append(calDistance((i,j),points))\n",
    "            \n",
    "    return min(maxx)\n",
    "\n",
    "print(miniMax(x,y,points))\n",
    "    "
   ],
   "metadata": {
    "collapsed": false,
    "ExecuteTime": {
     "end_time": "2024-01-20T05:40:18.376949Z",
     "start_time": "2024-01-20T05:40:18.361688500Z"
    }
   },
   "id": "ff044d1fce701db8",
   "execution_count": 6
  }
 ],
 "metadata": {
  "kernelspec": {
   "display_name": "Python 3",
   "language": "python",
   "name": "python3"
  },
  "language_info": {
   "codemirror_mode": {
    "name": "ipython",
    "version": 2
   },
   "file_extension": ".py",
   "mimetype": "text/x-python",
   "name": "python",
   "nbconvert_exporter": "python",
   "pygments_lexer": "ipython2",
   "version": "2.7.6"
  }
 },
 "nbformat": 4,
 "nbformat_minor": 5
}
