{
 "cells": [
  {
   "cell_type": "code",
   "outputs": [],
   "source": [
    "import numpy as np"
   ],
   "metadata": {
    "collapsed": false,
    "ExecuteTime": {
     "end_time": "2024-01-19T04:34:07.796308300Z",
     "start_time": "2024-01-19T04:34:07.705062800Z"
    }
   },
   "id": "33a65c91f8e5d678",
   "execution_count": 9
  },
  {
   "cell_type": "code",
   "outputs": [],
   "source": [
    "# 输入参评数目和指标数目\n",
    "# n=int(input())\n",
    "# m=int(input())\n",
    "n=3\n",
    "m=4"
   ],
   "metadata": {
    "collapsed": false,
    "ExecuteTime": {
     "end_time": "2024-01-19T04:34:07.824610Z",
     "start_time": "2024-01-19T04:34:07.802109400Z"
    }
   },
   "id": "f0461da0f6aa1bcb",
   "execution_count": 10
  },
  {
   "cell_type": "markdown",
   "source": [
    "## 接收输入数据类型， 1，极大型 2，极小型 3，中间型 4，区间型"
   ],
   "metadata": {
    "collapsed": false
   },
   "id": "5f265dd91d8cb7fd"
  },
  {
   "cell_type": "code",
   "outputs": [],
   "source": [
    "# kind=input().split(\" \")\n",
    "kind=[1,2,3,4]"
   ],
   "metadata": {
    "collapsed": false,
    "ExecuteTime": {
     "end_time": "2024-01-19T04:34:07.870067100Z",
     "start_time": "2024-01-19T04:34:07.833790300Z"
    }
   },
   "id": "aa0bfab895d71398",
   "execution_count": 11
  },
  {
   "cell_type": "markdown",
   "source": [
    "## 接收用户输入的矩阵并转换为numpy数组"
   ],
   "metadata": {
    "collapsed": false
   },
   "id": "b5fb8feab4a76b10"
  },
  {
   "cell_type": "code",
   "outputs": [
    {
     "name": "stdout",
     "output_type": "stream",
     "text": [
      "输入矩阵为[[  9.  10. 175. 120.]\n",
      " [  8.   7. 164.  80.]\n",
      " [  6.   3. 157.  90.]]\n"
     ]
    }
   ],
   "source": [
    "# A=np.zeros((n,m))\n",
    "# for i in range(n):\n",
    "#     A[i]=input().split(\" \")\n",
    "#     A[i]=list(map(float,A[i]))\n",
    "A=np.array([[  9., 10.,175.,120.]\n",
    " ,[  8.,7., 164.,  80.]\n",
    " ,[  6.,   3., 157.,  90.]])\n",
    "print(f\"输入矩阵为{A}\")"
   ],
   "metadata": {
    "collapsed": false,
    "ExecuteTime": {
     "end_time": "2024-01-19T04:34:07.874209200Z",
     "start_time": "2024-01-19T04:34:07.854946300Z"
    }
   },
   "id": "e40abcd1b6da2dbc",
   "execution_count": 12
  },
  {
   "cell_type": "markdown",
   "source": [
    "## 极小型转化为极大型"
   ],
   "metadata": {
    "collapsed": false
   },
   "id": "343d1d763277e53f"
  },
  {
   "cell_type": "code",
   "outputs": [],
   "source": [
    "def minToMax(max, x):\n",
    "    x=list(x)\n",
    "    ans=[[(max-e)]for e in x]\n",
    "    return np.array(ans)"
   ],
   "metadata": {
    "collapsed": false,
    "ExecuteTime": {
     "end_time": "2024-01-19T04:34:07.987049600Z",
     "start_time": "2024-01-19T04:34:07.882484100Z"
    }
   },
   "id": "9b85cae9c62d6457",
   "execution_count": 13
  },
  {
   "cell_type": "markdown",
   "source": [
    "## 中间型转化为极大型"
   ],
   "metadata": {
    "collapsed": false
   },
   "id": "38efc0f17a31ba6e"
  },
  {
   "cell_type": "code",
   "outputs": [],
   "source": [
    "def midToMax(best, x):\n",
    "    x=list(x)\n",
    "    h=[abs(e-best) for e in x]\n",
    "    M=max(h)\n",
    "    if M==0:\n",
    "        return np.array(x)\n",
    "    ans=[[(1-e/M)]for e in h]\n",
    "    return np.array(ans)"
   ],
   "metadata": {
    "collapsed": false,
    "ExecuteTime": {
     "end_time": "2024-01-19T04:34:08.025062200Z",
     "start_time": "2024-01-19T04:34:07.915793100Z"
    }
   },
   "id": "8595bbeb5a40338c",
   "execution_count": 14
  },
  {
   "cell_type": "markdown",
   "source": [
    "## 区间型到极大型"
   ],
   "metadata": {
    "collapsed": false
   },
   "id": "9937797d7a2a383b"
  },
  {
   "cell_type": "code",
   "outputs": [],
   "source": [
    "def regToMax(low,high, x):\n",
    "    x=list(x)\n",
    "    M=max(low-min(x),max(x)-high)\n",
    "    if M==0:\n",
    "        return np.array(x)\n",
    "    ans=[]\n",
    "    for i in range(len(x)):\n",
    "        if x[i]<low:\n",
    "            ans.append([(1-(low-x[i])/M)])\n",
    "        elif x[i]>high:\n",
    "            ans.append([(1-(x[i]-high)/M)])\n",
    "        else:\n",
    "            ans.append([1])\n",
    "    return np.array(ans)"
   ],
   "metadata": {
    "collapsed": false,
    "ExecuteTime": {
     "end_time": "2024-01-19T04:34:08.142071900Z",
     "start_time": "2024-01-19T04:34:08.040749Z"
    }
   },
   "id": "d9cfca88d66b633",
   "execution_count": 15
  },
  {
   "cell_type": "markdown",
   "source": [
    "# 统一指标类型"
   ],
   "metadata": {
    "collapsed": false
   },
   "id": "ef00719e4216283d"
  },
  {
   "cell_type": "code",
   "outputs": [
    {
     "name": "stdout",
     "output_type": "stream",
     "text": [
      "统一后的矩阵为[[0.03571429 0.08045977 0.         0.        ]\n",
      " [0.02380952 0.04597701 0.14666667 0.5       ]\n",
      " [0.         0.         0.24       1.        ]]\n"
     ]
    }
   ],
   "source": [
    "X=np.zeros((n,1))\n",
    "for i in range(m):\n",
    "    if kind[i]==\"1\":\n",
    "        v=np.array(A[:,i])\n",
    "    elif kind[i]==\"2\":\n",
    "        v=minToMax(max(A[:,i]),A[:,i])\n",
    "    elif kind[i]==\"3\":\n",
    "        best=165 # 输入最优解\n",
    "        v=midToMax(best,A[:,i])\n",
    "    else:\n",
    "        low=90\n",
    "        high=100\n",
    "        v=regToMax(low,high,A[:,i])\n",
    "    if i==0:\n",
    "        X=v.reshape(-1,1) # 转换为列向量\n",
    "    else:\n",
    "        X=np.hstack((X,v.reshape(-1,1))) # 每一个v其实是正向化后的一个指标的所有值，所以将其正向化后水平拼接得到的一行就是一个个体所有指标的集合\n",
    "print(f\"统一后的矩阵为{X}\")\n"
   ],
   "metadata": {
    "collapsed": false,
    "ExecuteTime": {
     "end_time": "2024-01-19T04:34:08.220651400Z",
     "start_time": "2024-01-19T04:34:08.123666900Z"
    }
   },
   "id": "ab9270495335790",
   "execution_count": 16
  },
  {
   "cell_type": "markdown",
   "source": [
    "# 对正向化结果进行标准化"
   ],
   "metadata": {
    "collapsed": false
   },
   "id": "f3b23b564dbacd6d"
  },
  {
   "cell_type": "code",
   "outputs": [
    {
     "name": "stdout",
     "output_type": "stream",
     "text": [
      "标准化后的矩阵为[[0.83205029 0.86824314 0.         0.        ]\n",
      " [0.5547002  0.49613894 0.52145001 0.4472136 ]\n",
      " [0.         0.         0.85328183 0.89442719]]\n"
     ]
    }
   ],
   "source": [
    "X=X.astype('float')\n",
    "for j in range(m):\n",
    "    X[:,j]=X[:,j]/np.sqrt(np.sum(X[:,j]**2))\n",
    "print(f\"标准化后的矩阵为{X}\")"
   ],
   "metadata": {
    "collapsed": false,
    "ExecuteTime": {
     "end_time": "2024-01-19T04:34:08.270130700Z",
     "start_time": "2024-01-19T04:34:08.183148900Z"
    }
   },
   "id": "d7529977b23dee",
   "execution_count": 17
  },
  {
   "cell_type": "markdown",
   "source": [
    "## 最大最小距离计算"
   ],
   "metadata": {
    "collapsed": false
   },
   "id": "6d150572de32a2d9"
  },
  {
   "cell_type": "code",
   "outputs": [
    {
     "name": "stdout",
     "output_type": "stream",
     "text": [
      "每个指标的最大值[0.83205029 0.86824314 0.85328183 0.89442719]\n",
      "每个指标的最小值[0. 0. 0. 0.]\n",
      "the vector of d+ is [1.23615933 0.7249117  1.20256137]\n",
      "the vector of d- is [1.20256137 1.01279626 1.23615933]\n"
     ]
    }
   ],
   "source": [
    "x_max=np.max(X,axis=0)\n",
    "x_min=np.min(X,axis=0)\n",
    "d_z=np.sqrt(np.sum(np.square((X-np.tile(x_max,(n,1)))),axis=1))\n",
    "d_f=np.sqrt(np.sum(np.square((X-np.tile(x_min,(n,1)))),axis=1))\n",
    "print(f\"每个指标的最大值{x_max}\")\n",
    "print(f\"每个指标的最小值{x_min}\")\n",
    "print(f\"the vector of d+ is {d_z}\")\n",
    "print(f\"the vector of d- is {d_f}\")"
   ],
   "metadata": {
    "collapsed": false,
    "ExecuteTime": {
     "end_time": "2024-01-19T04:34:08.315490400Z",
     "start_time": "2024-01-19T04:34:08.260756600Z"
    }
   },
   "id": "64a674b69b74a869",
   "execution_count": 18
  },
  {
   "cell_type": "markdown",
   "source": [
    "## 计算参评对象得分"
   ],
   "metadata": {
    "collapsed": false
   },
   "id": "7db86131568bda76"
  },
  {
   "cell_type": "code",
   "outputs": [
    {
     "name": "stdout",
     "output_type": "stream",
     "text": [
      "the 1th standerm in percentage is 31.15370184148252%\n",
      "the 2th standerm in percentage is 36.8222034470751%\n",
      "the 3th standerm in percentage is 32.02409471144237%\n"
     ]
    }
   ],
   "source": [
    "s=d_f/(d_z+d_f)\n",
    "Score=100*s/sum(s)\n",
    "for i in range(len(Score)):\n",
    "    print(f\"the {i+1}th standerm in percentage is {Score[i]}%\")"
   ],
   "metadata": {
    "collapsed": false,
    "ExecuteTime": {
     "end_time": "2024-01-19T04:34:08.476232500Z",
     "start_time": "2024-01-19T04:34:08.320644500Z"
    }
   },
   "id": "c0e585910fea626",
   "execution_count": 19
  },
  {
   "cell_type": "markdown",
   "source": [],
   "metadata": {
    "collapsed": false
   },
   "id": "5fedad124a6a24c3"
  }
 ],
 "metadata": {
  "kernelspec": {
   "display_name": "Python 3",
   "language": "python",
   "name": "python3"
  },
  "language_info": {
   "codemirror_mode": {
    "name": "ipython",
    "version": 2
   },
   "file_extension": ".py",
   "mimetype": "text/x-python",
   "name": "python",
   "nbconvert_exporter": "python",
   "pygments_lexer": "ipython2",
   "version": "2.7.6"
  }
 },
 "nbformat": 4,
 "nbformat_minor": 5
}
