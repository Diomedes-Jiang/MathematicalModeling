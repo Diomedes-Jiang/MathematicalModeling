{
 "cells": [
  {
   "cell_type": "raw",
   "source": [
    "# 灰色系统\n",
    "信息不完全是灰的基本含义"
   ],
   "metadata": {
    "collapsed": false
   },
   "id": "59caca40ca611be5"
  },
  {
   "cell_type": "markdown",
   "source": [
    "# 关联分析例题\n",
    "\n",
    "时间        年份  \n",
    "项目名称     2016 2017 2018 2019  \n",
    "国民生产总值  55   65   75   100 -----母序列\n",
    "工业产值     24   28   40   50  -----子序列\n",
    "农业产值     10   22   18   20  -----子序列"
   ],
   "metadata": {
    "collapsed": false
   },
   "id": "927a4c51f0f3b47f"
  },
  {
   "cell_type": "code",
   "execution_count": 1,
   "id": "initial_id",
   "metadata": {
    "collapsed": true,
    "ExecuteTime": {
     "end_time": "2024-01-23T02:30:49.669775700Z",
     "start_time": "2024-01-23T02:30:48.801036900Z"
    }
   },
   "outputs": [
    {
     "data": {
      "text/plain": "array([[0.74576271, 0.88135593, 1.01694915, 1.3559322 ],\n       [0.63157895, 1.        , 1.05263158, 1.31578947],\n       [0.57142857, 1.25714286, 1.02857143, 1.14285714]])"
     },
     "execution_count": 1,
     "metadata": {},
     "output_type": "execute_result"
    }
   ],
   "source": [
    "import numpy as np\n",
    "X=np.array([[55,65,75,100],[24,38,40,50],[10,22,18,20]])\n",
    "mean=np.sum(X,axis=1)/4\n",
    "Z=X/mean[:,np.newaxis]\n",
    "Z"
   ]
  },
  {
   "cell_type": "code",
   "outputs": [
    {
     "data": {
      "text/plain": "(array([0.11418376, 0.11864407, 0.03568243, 0.04014273]),\n array([0.17433414, 0.37578692, 0.01162228, 0.21307506]),\n 0.3757869249394673,\n 0.011622276029055634)"
     },
     "execution_count": 89,
     "metadata": {},
     "output_type": "execute_result"
    }
   ],
   "source": [
    "Y=np.transpose(Z)\n",
    "\n",
    "first=abs(Y[:,0]-Y[:,1])\n",
    "second=abs(Y[:,0]-Y[:,2])\n",
    "a=max(max(first),max(second))\n",
    "b=min(min(first),min(second))\n",
    "first,second,a,b\n"
   ],
   "metadata": {
    "collapsed": false,
    "ExecuteTime": {
     "end_time": "2024-01-19T07:52:44.869606300Z",
     "start_time": "2024-01-19T07:52:44.794785600Z"
    }
   },
   "id": "aa4f9133bd76d8d8",
   "execution_count": 89
  },
  {
   "cell_type": "markdown",
   "source": [
    "# 求关联度"
   ],
   "metadata": {
    "collapsed": false
   },
   "id": "95335040ff0349dc"
  },
  {
   "cell_type": "code",
   "outputs": [],
   "source": [
    "def calRelationFac(X,a,b):\n",
    "    X=(a+0.5*b)/(X+0.5*b)\n",
    "    return X"
   ],
   "metadata": {
    "collapsed": false,
    "ExecuteTime": {
     "end_time": "2024-01-19T07:52:44.897324600Z",
     "start_time": "2024-01-19T07:52:44.824727600Z"
    }
   },
   "id": "c24405b4c54f0ec1",
   "execution_count": 90
  },
  {
   "cell_type": "code",
   "outputs": [
    {
     "data": {
      "text/plain": "(array([0.66047924, 0.65086888, 0.89238486, 0.87493014]),\n array([0.55080214, 0.35395189, 1.        , 0.49758454]))"
     },
     "execution_count": 91,
     "metadata": {},
     "output_type": "execute_result"
    }
   ],
   "source": [
    "first_fac=calRelationFac(first,b,a)\n",
    "second_fac=calRelationFac(second,b,a)\n",
    "first_fac,second_fac"
   ],
   "metadata": {
    "collapsed": false,
    "ExecuteTime": {
     "end_time": "2024-01-19T07:52:44.945622400Z",
     "start_time": "2024-01-19T07:52:44.883258700Z"
    }
   },
   "id": "ad93ea069d1a55d4",
   "execution_count": 91
  },
  {
   "cell_type": "markdown",
   "source": [
    "## 求关联度"
   ],
   "metadata": {
    "collapsed": false
   },
   "id": "5864a44ae87858ac"
  },
  {
   "cell_type": "code",
   "outputs": [],
   "source": [
    "def calRelation(X):\n",
    "    return sum(X)/len(X)\n"
   ],
   "metadata": {
    "collapsed": false,
    "ExecuteTime": {
     "end_time": "2024-01-19T07:52:44.967426500Z",
     "start_time": "2024-01-19T07:52:44.951506600Z"
    }
   },
   "id": "c8ee2af5e1997137",
   "execution_count": 92
  },
  {
   "cell_type": "code",
   "outputs": [
    {
     "name": "stdout",
     "output_type": "stream",
     "text": [
      "0.7696657818674999\n"
     ]
    }
   ],
   "source": [
    "if calRelation(first_fac)>calRelation(second_fac):\n",
    "    print(calRelation(first_fac))\n",
    "else:\n",
    "    print(calRelation(second_fac))"
   ],
   "metadata": {
    "collapsed": false,
    "ExecuteTime": {
     "end_time": "2024-01-19T07:52:45.028942300Z",
     "start_time": "2024-01-19T07:52:44.971106500Z"
    }
   },
   "id": "9e880389d718c408",
   "execution_count": 93
  },
  {
   "cell_type": "markdown",
   "source": [
    "# 灰色关联综合评价"
   ],
   "metadata": {
    "collapsed": false
   },
   "id": "c97de8a7a136dd7b"
  },
  {
   "cell_type": "markdown",
   "source": [
    "候选人 颜值 争吵次数 身高 体重\n",
    "A     9    10     175 120\n",
    "B     8    7      164 80\n",
    "C     6    3      157 90"
   ],
   "metadata": {
    "collapsed": false
   },
   "id": "fb4080bf1bdc7d60"
  },
  {
   "cell_type": "code",
   "outputs": [
    {
     "data": {
      "text/plain": "array([[9. , 0. , 0. , 0. ],\n       [8. , 3. , 0.9, 0.5],\n       [6. , 7. , 0.2, 1. ]])"
     },
     "execution_count": 94,
     "metadata": {},
     "output_type": "execute_result"
    }
   ],
   "source": [
    "# 数据正向化：把所有的数据都改为极大型\n",
    "\n",
    "from Maxlize import midToMax,regToMax,minToMax\n",
    "wife=np.array([[9,10,175,120],[8,7,164,80],[6,3,157,90]])\n",
    "a=wife[:,0]\n",
    "b=minToMax(10,wife[:,1])\n",
    "c=midToMax(165,wife[:,2])\n",
    "d=regToMax(90,100,wife[:,3])\n",
    "a=a.reshape(-1,1)\n",
    "a=np.hstack((a,b.reshape(-1,1)))\n",
    "a=np.hstack((a,c.reshape(-1,1)))\n",
    "a=np.hstack((a,d.reshape(-1,1)))\n",
    "a"
   ],
   "metadata": {
    "collapsed": false,
    "ExecuteTime": {
     "end_time": "2024-01-19T07:52:45.032718800Z",
     "start_time": "2024-01-19T07:52:44.997489400Z"
    }
   },
   "id": "f2659aa3d895415b",
   "execution_count": 94
  },
  {
   "cell_type": "code",
   "outputs": [
    {
     "data": {
      "text/plain": "array([[1.17391304, 0.        , 0.        , 0.        ],\n       [1.04347826, 0.9       , 2.45454545, 1.        ],\n       [0.7826087 , 2.1       , 0.54545455, 2.        ]])"
     },
     "execution_count": 95,
     "metadata": {},
     "output_type": "execute_result"
    }
   ],
   "source": [
    "# 数据标准化\n",
    "mean_wife=np.sum(a,axis=0)/3\n",
    "Z_new=a/mean_wife\n",
    "Z_new"
   ],
   "metadata": {
    "collapsed": false,
    "ExecuteTime": {
     "end_time": "2024-01-19T07:52:45.111833400Z",
     "start_time": "2024-01-19T07:52:45.039071200Z"
    }
   },
   "id": "dbf82c5adf3cd219",
   "execution_count": 95
  },
  {
   "cell_type": "code",
   "outputs": [
    {
     "data": {
      "text/plain": "array([[1.17391304, 1.17391304, 0.        , 0.        , 0.        ],\n       [2.45454545, 1.04347826, 0.9       , 2.45454545, 1.        ],\n       [2.1       , 0.7826087 , 2.1       , 0.54545455, 2.        ]])"
     },
     "execution_count": 96,
     "metadata": {},
     "output_type": "execute_result"
    }
   ],
   "source": [
    "# 构造母序列：选取每一行中的最大值作为因变量（母序列）\n",
    "mother_seq=np.max(Z_new,axis=1)\n",
    "mother_seq=np.hstack((mother_seq[:,np.newaxis],Z_new))\n",
    "mother_seq"
   ],
   "metadata": {
    "collapsed": false,
    "ExecuteTime": {
     "end_time": "2024-01-19T07:52:45.147268400Z",
     "start_time": "2024-01-19T07:52:45.096890500Z"
    }
   },
   "id": "c9377233ff06ba98",
   "execution_count": 96
  },
  {
   "cell_type": "code",
   "outputs": [
    {
     "name": "stdout",
     "output_type": "stream",
     "text": [
      "[[0.         1.17391304 1.17391304 1.17391304]\n",
      " [1.41106719 1.55454545 0.         1.45454545]\n",
      " [1.3173913  0.         1.55454545 0.1       ]]\n"
     ]
    }
   ],
   "source": [
    "# 测量每个值与母序列的差值\n",
    "m,n=mother_seq.shape\n",
    "n=n-1\n",
    "answer=np.zeros((m,n))\n",
    "for i in range(m):\n",
    "    for j in range(n):\n",
    "        answer[i,j]=abs(mother_seq[i,0]-mother_seq[i,j+1])\n",
    "print(answer)"
   ],
   "metadata": {
    "collapsed": false,
    "ExecuteTime": {
     "end_time": "2024-01-19T07:52:45.169497700Z",
     "start_time": "2024-01-19T07:52:45.151543100Z"
    }
   },
   "id": "b6c625624bfc2a08",
   "execution_count": 97
  },
  {
   "cell_type": "code",
   "outputs": [
    {
     "data": {
      "text/plain": "(0.0, 1.5545454545454547)"
     },
     "execution_count": 98,
     "metadata": {},
     "output_type": "execute_result"
    }
   ],
   "source": [
    "# 选择极大差和极小差\n",
    "a_new=np.min(answer)\n",
    "b_new=np.max(answer)\n",
    "a_new,b_new"
   ],
   "metadata": {
    "collapsed": false,
    "ExecuteTime": {
     "end_time": "2024-01-19T07:52:45.228922900Z",
     "start_time": "2024-01-19T07:52:45.171624600Z"
    }
   },
   "id": "5996c93af697b744",
   "execution_count": 98
  },
  {
   "cell_type": "code",
   "outputs": [
    {
     "data": {
      "text/plain": "array([[1.        , 0.39835916, 0.39835916, 0.39835916],\n       [0.3551883 , 0.33333333, 1.        , 0.34826884],\n       [0.37107274, 1.        , 0.33333333, 0.88601036]])"
     },
     "execution_count": 99,
     "metadata": {},
     "output_type": "execute_result"
    }
   ],
   "source": [
    "# 计算相关系数\n",
    "relationFactor=calRelationFac(answer,a_new,b_new)\n",
    "relationFactor"
   ],
   "metadata": {
    "collapsed": false,
    "ExecuteTime": {
     "end_time": "2024-01-19T07:52:45.232213400Z",
     "start_time": "2024-01-19T07:52:45.192565100Z"
    }
   },
   "id": "363d052245ad29b4",
   "execution_count": 99
  },
  {
   "cell_type": "code",
   "outputs": [
    {
     "data": {
      "text/plain": "array([0.57542035, 0.57723083, 0.57723083, 0.54421279])"
     },
     "execution_count": 100,
     "metadata": {},
     "output_type": "execute_result"
    }
   ],
   "source": [
    "# 计算关联权重\n",
    "relationValue=calRelation(relationFactor)\n",
    "relationValue"
   ],
   "metadata": {
    "collapsed": false,
    "ExecuteTime": {
     "end_time": "2024-01-19T07:52:45.366257Z",
     "start_time": "2024-01-19T07:52:45.237592Z"
    }
   },
   "id": "cacddb97983474a3",
   "execution_count": 100
  },
  {
   "cell_type": "code",
   "outputs": [
    {
     "data": {
      "text/plain": "array([0.2530327 , 0.25382883, 0.25382883, 0.23930963])"
     },
     "execution_count": 101,
     "metadata": {},
     "output_type": "execute_result"
    }
   ],
   "source": [
    "# 归一化\n",
    "relation=relationValue/(np.sum(relationValue))\n",
    "relation"
   ],
   "metadata": {
    "collapsed": false,
    "ExecuteTime": {
     "end_time": "2024-01-19T07:52:45.399831800Z",
     "start_time": "2024-01-19T07:52:45.299723Z"
    }
   },
   "id": "add6d0ce210423e7",
   "execution_count": 101
  },
  {
   "cell_type": "code",
   "outputs": [
    {
     "data": {
      "text/plain": "array([0.0990128 , 0.45160804, 0.44937917])"
     },
     "execution_count": 102,
     "metadata": {},
     "output_type": "execute_result"
    }
   ],
   "source": [
    "# 计算获胜的可能性\n",
    "ans=np.dot(Z_new,relation)\n",
    "ans=ans/(np.sum(ans))\n",
    "ans"
   ],
   "metadata": {
    "collapsed": false,
    "ExecuteTime": {
     "end_time": "2024-01-19T07:52:45.455009500Z",
     "start_time": "2024-01-19T07:52:45.406732500Z"
    }
   },
   "id": "701861fd13a2bca6",
   "execution_count": 102
  },
  {
   "cell_type": "markdown",
   "source": [
    "可以看到，2号获胜的概率最大"
   ],
   "metadata": {
    "collapsed": false
   },
   "id": "d020917e93ae9f40"
  },
  {
   "cell_type": "markdown",
   "source": [
    "# GrayModel"
   ],
   "metadata": {
    "collapsed": false
   },
   "id": "82997e1a4aa755c6"
  },
  {
   "cell_type": "markdown",
   "source": [
    "### 长江水质污染预测\n",
    "长江在1995到2004年废水排污总量如下，若不采取保护措施，对今后污水发展做出预测\n",
    "年份    1995 1996 1997 1998 1999 2000 2001   2002 2003 2004\n",
    "排污量   174  179  183  189  207  234  220.5  256  270  285\n"
   ],
   "metadata": {
    "collapsed": false
   },
   "id": "2b6a4f964b19cb49"
  },
  {
   "cell_type": "code",
   "outputs": [
    {
     "data": {
      "text/plain": "<Figure size 640x480 with 1 Axes>",
      "image/png": "[encoded data removed]"
     },
     "metadata": {},
     "output_type": "display_data"
    }
   ],
   "source": [
    "import matplotlib.pyplot as plt\n",
    "Y=np.array([1995,1996,1997,1998,1999,2000,2001,2002,2003,2004])\n",
    "X=np.array([174,179, 183, 189, 207, 234, 220.5,  256,  270 , 285])\n",
    "plt.plot(Y,X)\n",
    "plt.show()"
   ],
   "metadata": {
    "collapsed": false,
    "ExecuteTime": {
     "end_time": "2024-01-23T02:44:01.675707100Z",
     "start_time": "2024-01-23T02:44:01.521947Z"
    }
   },
   "id": "4f868a1a3f3e7709",
   "execution_count": 8
  },
  {
   "cell_type": "markdown",
   "source": [
    "可以看到，数据没有明显规律，数据量也较少，且按**年份**规律分布。可以使用灰色预测"
   ],
   "metadata": {
    "collapsed": false
   },
   "id": "ae30a973b9a973b0"
  },
  {
   "cell_type": "code",
   "outputs": [
    {
     "data": {
      "text/plain": "array([ 174. ,  353. ,  536. ,  725. ,  932. , 1166. , 1386.5, 1642.5,\n       1912.5, 2197.5])"
     },
     "execution_count": 9,
     "metadata": {},
     "output_type": "execute_result"
    }
   ],
   "source": [
    "# 手动构建规律\n",
    "X_1=np.cumsum(X)\n",
    "X_1"
   ],
   "metadata": {
    "collapsed": false,
    "ExecuteTime": {
     "end_time": "2024-01-23T02:44:11.700523200Z",
     "start_time": "2024-01-23T02:44:11.653359800Z"
    }
   },
   "id": "484491aca3d4eb3e",
   "execution_count": 9
  },
  {
   "cell_type": "code",
   "outputs": [
    {
     "data": {
      "text/plain": "<Figure size 640x480 with 1 Axes>",
      "image/png": "[encoded data removed]"
     },
     "metadata": {},
     "output_type": "display_data"
    }
   ],
   "source": [
    "plt.plot(Y,X_1)\n",
    "plt.show()"
   ],
   "metadata": {
    "collapsed": false,
    "ExecuteTime": {
     "end_time": "2024-01-23T02:44:32.619772200Z",
     "start_time": "2024-01-23T02:44:32.448826700Z"
    }
   },
   "id": "41fe5e6781c1f1a1",
   "execution_count": 10
  },
  {
   "cell_type": "markdown",
   "source": [
    "此时可以看到曲线较为平滑"
   ],
   "metadata": {
    "collapsed": false
   },
   "id": "d58fe919ef60e528"
  },
  {
   "cell_type": "markdown",
   "source": [
    "为了消除随机性，对数据做如下处理"
   ],
   "metadata": {
    "collapsed": false
   },
   "id": "2f12097bce3bee6e"
  },
  {
   "cell_type": "code",
   "outputs": [
    {
     "data": {
      "text/plain": "(array([[ 174.  ],\n        [ 263.5 ],\n        [ 444.5 ],\n        [ 630.5 ],\n        [ 828.5 ],\n        [1049.  ],\n        [1276.25],\n        [1514.5 ],\n        [1777.5 ],\n        [2055.  ]]),\n array([[174. ],\n        [179. ],\n        [183. ],\n        [189. ],\n        [207. ],\n        [234. ],\n        [220.5],\n        [256. ],\n        [270. ],\n        [285. ]]))"
     },
     "execution_count": 37,
     "metadata": {},
     "output_type": "execute_result"
    }
   ],
   "source": [
    "Z=np.zeros(len(X_1))\n",
    "Z[0]=X_1[0]\n",
    "for i in range(len(X_1)-1):\n",
    "    Z[i+1]=0.5*X_1[i+1]+0.5*X_1[i]\n",
    "\n",
    "Z=np.array([Z])\n",
    "Z=Z.reshape(-1,1)\n",
    "X=X.reshape(-1,1)\n",
    "Z,X"
   ],
   "metadata": {
    "collapsed": false,
    "ExecuteTime": {
     "end_time": "2024-01-23T03:04:17.812814600Z",
     "start_time": "2024-01-23T03:04:17.760751400Z"
    }
   },
   "id": "f3d17a54923218a0",
   "execution_count": 37
  },
  {
   "cell_type": "code",
   "outputs": [
    {
     "data": {
      "text/plain": "array([[7.25337392e-08]])"
     },
     "execution_count": 29,
     "metadata": {},
     "output_type": "execute_result"
    }
   ],
   "source": [
    "np.linalg.inv(np.dot(np.transpose(Z),Z))"
   ],
   "metadata": {
    "collapsed": false,
    "ExecuteTime": {
     "end_time": "2024-01-23T03:02:04.448387300Z",
     "start_time": "2024-01-23T03:02:04.401241Z"
    }
   },
   "id": "86f59ac0d7505683",
   "execution_count": 29
  },
  {
   "cell_type": "code",
   "outputs": [
    {
     "data": {
      "text/plain": "array([[2429641.125]])"
     },
     "execution_count": 38,
     "metadata": {},
     "output_type": "execute_result"
    }
   ],
   "source": [
    "np.dot(np.transpose(Z),X)"
   ],
   "metadata": {
    "collapsed": false,
    "ExecuteTime": {
     "end_time": "2024-01-23T03:04:42.651864900Z",
     "start_time": "2024-01-23T03:04:42.583527Z"
    }
   },
   "id": "5440e4cbd1e01793",
   "execution_count": 38
  },
  {
   "cell_type": "markdown",
   "source": [
    "求出X=-aZ+u中a和u的值"
   ],
   "metadata": {
    "collapsed": false
   },
   "id": "854826f2bcdd1a08"
  },
  {
   "cell_type": "code",
   "outputs": [],
   "source": [
    "def ordinaryLeastSquares(X,Y):\n",
    "    # 最小二乘法的原理是尽可能使得观察值y'与真实值y的偏差量小，使用偏差的平方和作为标准，平方和求导为0时平方和最小，求出此时拟合直线斜率和截距即可\n",
    "    k=(len(X)*sum(X*Y)-sum(X)*sum(Y))/(len(X)*sum(X*X)-sum(X)**2)\n",
    "    b=Y.mean()-k*X.mean()\n",
    "    return k,b"
   ],
   "metadata": {
    "collapsed": false,
    "ExecuteTime": {
     "end_time": "2024-01-23T03:12:39.562675500Z",
     "start_time": "2024-01-23T03:12:39.507566200Z"
    }
   },
   "id": "d2cbf43efa4f64d8",
   "execution_count": 39
  },
  {
   "cell_type": "code",
   "outputs": [
    {
     "data": {
      "text/plain": "(array([0.06096252]), array([158.70670512]))"
     },
     "execution_count": 40,
     "metadata": {},
     "output_type": "execute_result"
    }
   ],
   "source": [
    "k,b=ordinaryLeastSquares(Z,X)\n",
    "k,b"
   ],
   "metadata": {
    "collapsed": false,
    "ExecuteTime": {
     "end_time": "2024-01-23T03:13:00.733773700Z",
     "start_time": "2024-01-23T03:13:00.687332800Z"
    }
   },
   "id": "3c7a51396ebc2900",
   "execution_count": 40
  },
  {
   "cell_type": "markdown",
   "source": [
    "此时可以得到 a=-k u=b\n",
    "将其带回常微分方程\n",
    "可以得到\n",
    "$x_{predict}^{(1)}(m+1)=[x^{(0)}(1)-\\frac{u}{a}]e^{-am}+\\frac{u}{a},m=1,2,...,n-1$\n",
    "于是可以得到\n",
    "$x_{predict}^{(0)}(m+1)=(1-e^a)[x^{(0)}(1)-\\frac{u}{a}]e^{-am}$"
   ],
   "metadata": {
    "collapsed": false
   },
   "id": "fa792e545f78cc30"
  },
  {
   "cell_type": "code",
   "outputs": [
    {
     "data": {
      "text/plain": "array([302.18966352])"
     },
     "execution_count": 41,
     "metadata": {},
     "output_type": "execute_result"
    }
   ],
   "source": [
    "a=-k\n",
    "u=b\n",
    "# 第十一年的数据为:\n",
    "x_11=(1-np.power(np.e,a))*(X[0]-u/a)*np.power(np.e,-a*10)\n",
    "x_11"
   ],
   "metadata": {
    "collapsed": false,
    "ExecuteTime": {
     "end_time": "2024-01-23T03:21:39.903906700Z",
     "start_time": "2024-01-23T03:21:39.859027300Z"
    }
   },
   "id": "e9adee5fc45fa457",
   "execution_count": 41
  },
  {
   "cell_type": "code",
   "outputs": [
    {
     "data": {
      "text/plain": "<Figure size 640x480 with 1 Axes>",
      "image/png": "[encoded data removed]"
     },
     "metadata": {},
     "output_type": "display_data"
    }
   ],
   "source": [
    "X=X.reshape(-1,1)\n",
    "X=np.vstack((X,x_11))\n",
    "Y=Y.reshape(-1,1)\n",
    "Y=np.vstack((Y,[2005]))\n",
    "plt.plot(Y,X)\n",
    "plt.show()"
   ],
   "metadata": {
    "collapsed": false,
    "ExecuteTime": {
     "end_time": "2024-01-23T03:24:13.369407Z",
     "start_time": "2024-01-23T03:24:13.207508900Z"
    }
   },
   "id": "f68931b78376c86c",
   "execution_count": 45
  }
 ],
 "metadata": {
  "kernelspec": {
   "display_name": "Python 3",
   "language": "python",
   "name": "python3"
  },
  "language_info": {
   "codemirror_mode": {
    "name": "ipython",
    "version": 2
   },
   "file_extension": ".py",
   "mimetype": "text/x-python",
   "name": "python",
   "nbconvert_exporter": "python",
   "pygments_lexer": "ipython2",
   "version": "2.7.6"
  }
 },
 "nbformat": 4,
 "nbformat_minor": 5
}
