{
 "cells": [
  {
   "cell_type": "markdown",
   "source": [
    "# 关联分析例题\n",
    "\n",
    "时间        年份  \n",
    "项目名称     2016 2017 2018 2019  \n",
    "国民生产总值  55   65   75   100 -----母序列\n",
    "工业产值     24   28   40   50  -----子序列\n",
    "农业产值     10   22   18   20  -----子序列"
   ],
   "metadata": {
    "collapsed": false
   },
   "id": "927a4c51f0f3b47f"
  },
  {
   "cell_type": "code",
   "execution_count": 88,
   "id": "initial_id",
   "metadata": {
    "collapsed": true,
    "ExecuteTime": {
     "end_time": "2024-01-19T07:52:44.785302900Z",
     "start_time": "2024-01-19T07:52:44.576093600Z"
    }
   },
   "outputs": [
    {
     "data": {
      "text/plain": "array([[0.74576271, 0.88135593, 1.01694915, 1.3559322 ],\n       [0.63157895, 1.        , 1.05263158, 1.31578947],\n       [0.57142857, 1.25714286, 1.02857143, 1.14285714]])"
     },
     "execution_count": 88,
     "metadata": {},
     "output_type": "execute_result"
    }
   ],
   "source": [
    "import numpy as np\n",
    "X=np.array([[55,65,75,100],[24,38,40,50],[10,22,18,20]])\n",
    "mean=np.sum(X,axis=1)/4\n",
    "Z=X/mean[:,np.newaxis]\n",
    "Z"
   ]
  },
  {
   "cell_type": "code",
   "outputs": [
    {
     "data": {
      "text/plain": "(array([0.11418376, 0.11864407, 0.03568243, 0.04014273]),\n array([0.17433414, 0.37578692, 0.01162228, 0.21307506]),\n 0.3757869249394673,\n 0.011622276029055634)"
     },
     "execution_count": 89,
     "metadata": {},
     "output_type": "execute_result"
    }
   ],
   "source": [
    "Y=np.transpose(Z)\n",
    "\n",
    "first=abs(Y[:,0]-Y[:,1])\n",
    "second=abs(Y[:,0]-Y[:,2])\n",
    "a=max(max(first),max(second))\n",
    "b=min(min(first),min(second))\n",
    "first,second,a,b\n"
   ],
   "metadata": {
    "collapsed": false,
    "ExecuteTime": {
     "end_time": "2024-01-19T07:52:44.869606300Z",
     "start_time": "2024-01-19T07:52:44.794785600Z"
    }
   },
   "id": "aa4f9133bd76d8d8",
   "execution_count": 89
  },
  {
   "cell_type": "markdown",
   "source": [
    "# 求关联度"
   ],
   "metadata": {
    "collapsed": false
   },
   "id": "95335040ff0349dc"
  },
  {
   "cell_type": "code",
   "outputs": [],
   "source": [
    "def calRelationFac(X,a,b):\n",
    "    X=(a+0.5*b)/(X+0.5*b)\n",
    "    return X"
   ],
   "metadata": {
    "collapsed": false,
    "ExecuteTime": {
     "end_time": "2024-01-19T07:52:44.897324600Z",
     "start_time": "2024-01-19T07:52:44.824727600Z"
    }
   },
   "id": "c24405b4c54f0ec1",
   "execution_count": 90
  },
  {
   "cell_type": "code",
   "outputs": [
    {
     "data": {
      "text/plain": "(array([0.66047924, 0.65086888, 0.89238486, 0.87493014]),\n array([0.55080214, 0.35395189, 1.        , 0.49758454]))"
     },
     "execution_count": 91,
     "metadata": {},
     "output_type": "execute_result"
    }
   ],
   "source": [
    "first_fac=calRelationFac(first,b,a)\n",
    "second_fac=calRelationFac(second,b,a)\n",
    "first_fac,second_fac"
   ],
   "metadata": {
    "collapsed": false,
    "ExecuteTime": {
     "end_time": "2024-01-19T07:52:44.945622400Z",
     "start_time": "2024-01-19T07:52:44.883258700Z"
    }
   },
   "id": "ad93ea069d1a55d4",
   "execution_count": 91
  },
  {
   "cell_type": "markdown",
   "source": [
    "## 求关联度"
   ],
   "metadata": {
    "collapsed": false
   },
   "id": "5864a44ae87858ac"
  },
  {
   "cell_type": "code",
   "outputs": [],
   "source": [
    "def calRelation(X):\n",
    "    return sum(X)/len(X)\n"
   ],
   "metadata": {
    "collapsed": false,
    "ExecuteTime": {
     "end_time": "2024-01-19T07:52:44.967426500Z",
     "start_time": "2024-01-19T07:52:44.951506600Z"
    }
   },
   "id": "c8ee2af5e1997137",
   "execution_count": 92
  },
  {
   "cell_type": "code",
   "outputs": [
    {
     "name": "stdout",
     "output_type": "stream",
     "text": [
      "0.7696657818674999\n"
     ]
    }
   ],
   "source": [
    "if calRelation(first_fac)>calRelation(second_fac):\n",
    "    print(calRelation(first_fac))\n",
    "else:\n",
    "    print(calRelation(second_fac))"
   ],
   "metadata": {
    "collapsed": false,
    "ExecuteTime": {
     "end_time": "2024-01-19T07:52:45.028942300Z",
     "start_time": "2024-01-19T07:52:44.971106500Z"
    }
   },
   "id": "9e880389d718c408",
   "execution_count": 93
  },
  {
   "cell_type": "markdown",
   "source": [
    "# 灰色关联综合评价"
   ],
   "metadata": {
    "collapsed": false
   },
   "id": "c97de8a7a136dd7b"
  },
  {
   "cell_type": "markdown",
   "source": [
    "候选人 颜值 争吵次数 身高 体重\n",
    "A     9    10     175 120\n",
    "B     8    7      164 80\n",
    "C     6    3      157 90"
   ],
   "metadata": {
    "collapsed": false
   },
   "id": "fb4080bf1bdc7d60"
  },
  {
   "cell_type": "code",
   "outputs": [
    {
     "data": {
      "text/plain": "array([[9. , 0. , 0. , 0. ],\n       [8. , 3. , 0.9, 0.5],\n       [6. , 7. , 0.2, 1. ]])"
     },
     "execution_count": 94,
     "metadata": {},
     "output_type": "execute_result"
    }
   ],
   "source": [
    "# 数据正向化：把所有的数据都改为极大型\n",
    "\n",
    "from Maxlize import midToMax,regToMax,minToMax\n",
    "wife=np.array([[9,10,175,120],[8,7,164,80],[6,3,157,90]])\n",
    "a=wife[:,0]\n",
    "b=minToMax(10,wife[:,1])\n",
    "c=midToMax(165,wife[:,2])\n",
    "d=regToMax(90,100,wife[:,3])\n",
    "a=a.reshape(-1,1)\n",
    "a=np.hstack((a,b.reshape(-1,1)))\n",
    "a=np.hstack((a,c.reshape(-1,1)))\n",
    "a=np.hstack((a,d.reshape(-1,1)))\n",
    "a"
   ],
   "metadata": {
    "collapsed": false,
    "ExecuteTime": {
     "end_time": "2024-01-19T07:52:45.032718800Z",
     "start_time": "2024-01-19T07:52:44.997489400Z"
    }
   },
   "id": "f2659aa3d895415b",
   "execution_count": 94
  },
  {
   "cell_type": "code",
   "outputs": [
    {
     "data": {
      "text/plain": "array([[1.17391304, 0.        , 0.        , 0.        ],\n       [1.04347826, 0.9       , 2.45454545, 1.        ],\n       [0.7826087 , 2.1       , 0.54545455, 2.        ]])"
     },
     "execution_count": 95,
     "metadata": {},
     "output_type": "execute_result"
    }
   ],
   "source": [
    "# 数据标准化\n",
    "mean_wife=np.sum(a,axis=0)/3\n",
    "Z_new=a/mean_wife\n",
    "Z_new"
   ],
   "metadata": {
    "collapsed": false,
    "ExecuteTime": {
     "end_time": "2024-01-19T07:52:45.111833400Z",
     "start_time": "2024-01-19T07:52:45.039071200Z"
    }
   },
   "id": "dbf82c5adf3cd219",
   "execution_count": 95
  },
  {
   "cell_type": "code",
   "outputs": [
    {
     "data": {
      "text/plain": "array([[1.17391304, 1.17391304, 0.        , 0.        , 0.        ],\n       [2.45454545, 1.04347826, 0.9       , 2.45454545, 1.        ],\n       [2.1       , 0.7826087 , 2.1       , 0.54545455, 2.        ]])"
     },
     "execution_count": 96,
     "metadata": {},
     "output_type": "execute_result"
    }
   ],
   "source": [
    "# 构造母序列：选取每一行中的最大值作为因变量（母序列）\n",
    "mother_seq=np.max(Z_new,axis=1)\n",
    "mother_seq=np.hstack((mother_seq[:,np.newaxis],Z_new))\n",
    "mother_seq"
   ],
   "metadata": {
    "collapsed": false,
    "ExecuteTime": {
     "end_time": "2024-01-19T07:52:45.147268400Z",
     "start_time": "2024-01-19T07:52:45.096890500Z"
    }
   },
   "id": "c9377233ff06ba98",
   "execution_count": 96
  },
  {
   "cell_type": "code",
   "outputs": [
    {
     "name": "stdout",
     "output_type": "stream",
     "text": [
      "[[0.         1.17391304 1.17391304 1.17391304]\n",
      " [1.41106719 1.55454545 0.         1.45454545]\n",
      " [1.3173913  0.         1.55454545 0.1       ]]\n"
     ]
    }
   ],
   "source": [
    "# 测量每个值与母序列的差值\n",
    "m,n=mother_seq.shape\n",
    "n=n-1\n",
    "answer=np.zeros((m,n))\n",
    "for i in range(m):\n",
    "    for j in range(n):\n",
    "        answer[i,j]=abs(mother_seq[i,0]-mother_seq[i,j+1])\n",
    "print(answer)"
   ],
   "metadata": {
    "collapsed": false,
    "ExecuteTime": {
     "end_time": "2024-01-19T07:52:45.169497700Z",
     "start_time": "2024-01-19T07:52:45.151543100Z"
    }
   },
   "id": "b6c625624bfc2a08",
   "execution_count": 97
  },
  {
   "cell_type": "code",
   "outputs": [
    {
     "data": {
      "text/plain": "(0.0, 1.5545454545454547)"
     },
     "execution_count": 98,
     "metadata": {},
     "output_type": "execute_result"
    }
   ],
   "source": [
    "# 选择极大差和极小差\n",
    "a_new=np.min(answer)\n",
    "b_new=np.max(answer)\n",
    "a_new,b_new"
   ],
   "metadata": {
    "collapsed": false,
    "ExecuteTime": {
     "end_time": "2024-01-19T07:52:45.228922900Z",
     "start_time": "2024-01-19T07:52:45.171624600Z"
    }
   },
   "id": "5996c93af697b744",
   "execution_count": 98
  },
  {
   "cell_type": "code",
   "outputs": [
    {
     "data": {
      "text/plain": "array([[1.        , 0.39835916, 0.39835916, 0.39835916],\n       [0.3551883 , 0.33333333, 1.        , 0.34826884],\n       [0.37107274, 1.        , 0.33333333, 0.88601036]])"
     },
     "execution_count": 99,
     "metadata": {},
     "output_type": "execute_result"
    }
   ],
   "source": [
    "# 计算相关系数\n",
    "relationFactor=calRelationFac(answer,a_new,b_new)\n",
    "relationFactor"
   ],
   "metadata": {
    "collapsed": false,
    "ExecuteTime": {
     "end_time": "2024-01-19T07:52:45.232213400Z",
     "start_time": "2024-01-19T07:52:45.192565100Z"
    }
   },
   "id": "363d052245ad29b4",
   "execution_count": 99
  },
  {
   "cell_type": "code",
   "outputs": [
    {
     "data": {
      "text/plain": "array([0.57542035, 0.57723083, 0.57723083, 0.54421279])"
     },
     "execution_count": 100,
     "metadata": {},
     "output_type": "execute_result"
    }
   ],
   "source": [
    "# 计算关联权重\n",
    "relationValue=calRelation(relationFactor)\n",
    "relationValue"
   ],
   "metadata": {
    "collapsed": false,
    "ExecuteTime": {
     "end_time": "2024-01-19T07:52:45.366257Z",
     "start_time": "2024-01-19T07:52:45.237592Z"
    }
   },
   "id": "cacddb97983474a3",
   "execution_count": 100
  },
  {
   "cell_type": "code",
   "outputs": [
    {
     "data": {
      "text/plain": "array([0.2530327 , 0.25382883, 0.25382883, 0.23930963])"
     },
     "execution_count": 101,
     "metadata": {},
     "output_type": "execute_result"
    }
   ],
   "source": [
    "# 归一化\n",
    "relation=relationValue/(np.sum(relationValue))\n",
    "relation"
   ],
   "metadata": {
    "collapsed": false,
    "ExecuteTime": {
     "end_time": "2024-01-19T07:52:45.399831800Z",
     "start_time": "2024-01-19T07:52:45.299723Z"
    }
   },
   "id": "add6d0ce210423e7",
   "execution_count": 101
  },
  {
   "cell_type": "code",
   "outputs": [
    {
     "data": {
      "text/plain": "array([0.0990128 , 0.45160804, 0.44937917])"
     },
     "execution_count": 102,
     "metadata": {},
     "output_type": "execute_result"
    }
   ],
   "source": [
    "# 计算获胜的可能性\n",
    "ans=np.dot(Z_new,relation)\n",
    "ans=ans/(np.sum(ans))\n",
    "ans"
   ],
   "metadata": {
    "collapsed": false,
    "ExecuteTime": {
     "end_time": "2024-01-19T07:52:45.455009500Z",
     "start_time": "2024-01-19T07:52:45.406732500Z"
    }
   },
   "id": "701861fd13a2bca6",
   "execution_count": 102
  },
  {
   "cell_type": "markdown",
   "source": [
    "可以看到，2号获胜的概率最大"
   ],
   "metadata": {
    "collapsed": false
   },
   "id": "d020917e93ae9f40"
  }
 ],
 "metadata": {
  "kernelspec": {
   "display_name": "Python 3",
   "language": "python",
   "name": "python3"
  },
  "language_info": {
   "codemirror_mode": {
    "name": "ipython",
    "version": 2
   },
   "file_extension": ".py",
   "mimetype": "text/x-python",
   "name": "python",
   "nbconvert_exporter": "python",
   "pygments_lexer": "ipython2",
   "version": "2.7.6"
  }
 },
 "nbformat": 4,
 "nbformat_minor": 5
}
