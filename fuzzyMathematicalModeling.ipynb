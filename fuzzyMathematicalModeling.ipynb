{
 "cells": [
  {
   "cell_type": "markdown",
   "source": [
    "## 模糊集合的分类\n",
    "# 偏小型：值越小 隶属度越大\n",
    "# 中间型，越靠中间某个值，隶属度越大\n",
    "# 偏大型：值越大，隶属度越大\n",
    "\n",
    "## 隶属函数的确定\n",
    "- 模糊统计法\n",
    "- 借助已有客观函数\n",
    "- 指派法\n",
    "\n",
    "## 模糊综合评价\n",
    "- 因素集：评价的指标\n",
    "- 评语级：评价的结果\n",
    "- 权重级：指标的权重\n"
   ],
   "metadata": {
    "collapsed": false
   },
   "id": "9e5156b7b41079f0"
  },
  {
   "cell_type": "code",
   "execution_count": null,
   "id": "initial_id",
   "metadata": {
    "collapsed": true
   },
   "outputs": [],
   "source": []
  }
 ],
 "metadata": {
  "kernelspec": {
   "display_name": "Python 3",
   "language": "python",
   "name": "python3"
  },
  "language_info": {
   "codemirror_mode": {
    "name": "ipython",
    "version": 2
   },
   "file_extension": ".py",
   "mimetype": "text/x-python",
   "name": "python",
   "nbconvert_exporter": "python",
   "pygments_lexer": "ipython2",
   "version": "2.7.6"
  }
 },
 "nbformat": 4,
 "nbformat_minor": 5
}
