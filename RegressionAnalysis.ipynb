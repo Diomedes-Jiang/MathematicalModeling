{
 "cells": [
  {
   "cell_type": "markdown",
   "source": [
    "# 直线回归"
   ],
   "metadata": {
    "collapsed": false
   },
   "id": "2c27ff47e7b6722d"
  },
  {
   "cell_type": "code",
   "outputs": [],
   "source": [
    "import numpy as np"
   ],
   "metadata": {
    "collapsed": false,
    "ExecuteTime": {
     "end_time": "2024-01-23T03:05:34.931031500Z",
     "start_time": "2024-01-23T03:05:34.545682600Z"
    }
   },
   "id": "9c9efba82b3e6141",
   "execution_count": 2
  },
  {
   "cell_type": "markdown",
   "source": [
    "## 最小二乘法"
   ],
   "metadata": {
    "collapsed": false
   },
   "id": "8055dea39800f650"
  },
  {
   "cell_type": "code",
   "execution_count": 3,
   "id": "initial_id",
   "metadata": {
    "collapsed": true,
    "ExecuteTime": {
     "end_time": "2024-01-23T03:05:34.934301200Z",
     "start_time": "2024-01-23T03:05:34.868160600Z"
    }
   },
   "outputs": [],
   "source": [
    "def ordinaryLeastSquares(X,Y):\n",
    "    # 最小二乘法的原理是尽可能使得观察值y'与真实值y的偏差量小，使用偏差的平方和作为标准，平方和求导为0时平方和最小，求出此时拟合直线斜率和截距即可\n",
    "    k=(len(X)*sum(X*Y)-sum(X)*sum(Y))/(len(X)*sum(X*X)-sum(X)**2)\n",
    "    b=Y.mean()-k*X.mean()\n",
    "    return k,b"
   ]
  },
  {
   "cell_type": "markdown",
   "source": [
    "身高：143,145,146,147,149,150,153,154,155,156,157,158,159,160,162,164\n",
    "腿长：88,85,88,91,92,93,93,95,96,98,97,96,98,99,100,102"
   ],
   "metadata": {
    "collapsed": false
   },
   "id": "2253f89e118ce99c"
  },
  {
   "cell_type": "code",
   "outputs": [],
   "source": [
    "X=np.array([143,145,146,147,149,150,153,154,155,156,157,158,159,160,162,164])\n",
    "Y=np.array([88,85,88,91,92,93,93,95,96,98,97,96,98,99,100,102])\n"
   ],
   "metadata": {
    "collapsed": false,
    "ExecuteTime": {
     "end_time": "2024-01-23T03:05:34.988746300Z",
     "start_time": "2024-01-23T03:05:34.891027700Z"
    }
   },
   "id": "ed7fc2262a3956e9",
   "execution_count": 4
  },
  {
   "cell_type": "code",
   "outputs": [
    {
     "data": {
      "text/plain": "(0.7193521935219352, -16.0729807298073)"
     },
     "execution_count": 5,
     "metadata": {},
     "output_type": "execute_result"
    }
   ],
   "source": [
    "k,b=ordinaryLeastSquares(X,Y)\n",
    "k,b"
   ],
   "metadata": {
    "collapsed": false,
    "ExecuteTime": {
     "end_time": "2024-01-23T03:05:35.014709500Z",
     "start_time": "2024-01-23T03:05:34.905655900Z"
    }
   },
   "id": "3e5277cde1dccb39",
   "execution_count": 5
  },
  {
   "cell_type": "code",
   "outputs": [
    {
     "data": {
      "text/plain": "array([102.6201312])"
     },
     "execution_count": 6,
     "metadata": {},
     "output_type": "execute_result"
    }
   ],
   "source": [
    "neo_X=np.array([165])\n",
    "neo_Y=k*neo_X+b\n",
    "neo_Y"
   ],
   "metadata": {
    "collapsed": false,
    "ExecuteTime": {
     "end_time": "2024-01-23T03:05:35.018186900Z",
     "start_time": "2024-01-23T03:05:34.924670300Z"
    }
   },
   "id": "aa5cb59390d570ee",
   "execution_count": 6
  },
  {
   "cell_type": "markdown",
   "source": [
    "## 多元线性回归"
   ],
   "metadata": {
    "collapsed": false
   },
   "id": "b9756100548ad2dc"
  },
  {
   "cell_type": "markdown",
   "source": [
    "1. 对参数进行点估计，求出回归方程\n",
    "2. 对参数，模型进行检验\n",
    "3. 对y做点估计"
   ],
   "metadata": {
    "collapsed": false
   },
   "id": "409813f6bdfe3b16"
  },
  {
   "cell_type": "code",
   "outputs": [],
   "source": [
    "# 多元线性回归模型的参数估计\n",
    "def regression(X,Y):\n",
    "    return np.dot(np.linalg.inv((np.dot(np.transpose(X),X))),(np.dot(np.transpose(X),Y)))\n"
   ],
   "metadata": {
    "collapsed": false,
    "ExecuteTime": {
     "end_time": "2024-01-23T03:05:35.035924400Z",
     "start_time": "2024-01-23T03:05:34.939580200Z"
    }
   },
   "id": "fbb7e4f5c6497651",
   "execution_count": 7
  },
  {
   "cell_type": "code",
   "outputs": [
    {
     "data": {
      "text/plain": "(array([1.75]),\n array([[-1.5 ],\n        [ 4.  ],\n        [-0.25],\n        [-1.  ]]))"
     },
     "execution_count": 8,
     "metadata": {},
     "output_type": "execute_result"
    }
   ],
   "source": [
    "x=np.array([[1,3,4,6],[3,2,5,3],[9,7,5,6]])\n",
    "y=np.array([[1],[3],[6]])\n",
    "beta=regression(x,y)\n",
    "test_x=np.array([1,2,3,4])\n",
    "test_y=np.dot(test_x,beta)\n",
    "test_y,beta"
   ],
   "metadata": {
    "collapsed": false,
    "ExecuteTime": {
     "end_time": "2024-01-23T03:05:35.093311700Z",
     "start_time": "2024-01-23T03:05:34.953442Z"
    }
   },
   "id": "405c87a0e573a2a2",
   "execution_count": 8
  },
  {
   "cell_type": "markdown",
   "source": [
    "# 非线性回归"
   ],
   "metadata": {
    "collapsed": false
   },
   "id": "62ba0a3b1f0f9cf8"
  },
  {
   "cell_type": "markdown",
   "source": [
    "配曲线\n",
    "- 画出散点图\n",
    "- 估计曲线类型\n",
    "- 估计位置参数  \n",
    "估计位置参数方法：转换为线性函数，用线性回归方法求得参数"
   ],
   "metadata": {
    "collapsed": false
   },
   "id": "e41d0e331cbb8701"
  },
  {
   "cell_type": "markdown",
   "source": [
    "## 多项式回归\n"
   ],
   "metadata": {
    "collapsed": false
   },
   "id": "7ce8befad6268b0c"
  },
  {
   "cell_type": "code",
   "outputs": [
    {
     "data": {
      "text/plain": "   sno  Temperature  Pressure\n0    1            0    0.0002\n1    2           20    0.0012\n2    3           40    0.0060\n3    4           60    0.0300\n4    5           80    0.0900\n5    6          100    0.2700",
      "text/html": "<div>\n<style scoped>\n    .dataframe tbody tr th:only-of-type {\n        vertical-align: middle;\n    }\n\n    .dataframe tbody tr th {\n        vertical-align: top;\n    }\n\n    .dataframe thead th {\n        text-align: right;\n    }\n</style>\n<table border=\"1\" class=\"dataframe\">\n  <thead>\n    <tr style=\"text-align: right;\">\n      <th></th>\n      <th>sno</th>\n      <th>Temperature</th>\n      <th>Pressure</th>\n    </tr>\n  </thead>\n  <tbody>\n    <tr>\n      <th>0</th>\n      <td>1</td>\n      <td>0</td>\n      <td>0.0002</td>\n    </tr>\n    <tr>\n      <th>1</th>\n      <td>2</td>\n      <td>20</td>\n      <td>0.0012</td>\n    </tr>\n    <tr>\n      <th>2</th>\n      <td>3</td>\n      <td>40</td>\n      <td>0.0060</td>\n    </tr>\n    <tr>\n      <th>3</th>\n      <td>4</td>\n      <td>60</td>\n      <td>0.0300</td>\n    </tr>\n    <tr>\n      <th>4</th>\n      <td>5</td>\n      <td>80</td>\n      <td>0.0900</td>\n    </tr>\n    <tr>\n      <th>5</th>\n      <td>6</td>\n      <td>100</td>\n      <td>0.2700</td>\n    </tr>\n  </tbody>\n</table>\n</div>"
     },
     "execution_count": 9,
     "metadata": {},
     "output_type": "execute_result"
    }
   ],
   "source": [
    "import matplotlib.pyplot as plt\n",
    "import pandas as pd\n",
    "\n",
    "# 读取数据集\n",
    "datas=pd.read_csv('data.csv') \n",
    "datas"
   ],
   "metadata": {
    "collapsed": false,
    "ExecuteTime": {
     "end_time": "2024-01-23T03:05:36.903546100Z",
     "start_time": "2024-01-23T03:05:34.984256600Z"
    }
   },
   "id": "afa4a54b9ed0059",
   "execution_count": 9
  },
  {
   "cell_type": "code",
   "outputs": [
    {
     "data": {
      "text/plain": "(array([[  0],\n        [ 20],\n        [ 40],\n        [ 60],\n        [ 80],\n        [100]], dtype=int64),\n array([2.0e-04, 1.2e-03, 6.0e-03, 3.0e-02, 9.0e-02, 2.7e-01]))"
     },
     "execution_count": 10,
     "metadata": {},
     "output_type": "execute_result"
    }
   ],
   "source": [
    "X=datas.iloc[:,1:2].values # 该方法返回的是第一列，并且为列向量\n",
    "Y=datas.iloc[:,2].values # 该方法返回第二列，但是结果为标量（一维数组）\n",
    "X,Y"
   ],
   "metadata": {
    "collapsed": false,
    "ExecuteTime": {
     "end_time": "2024-01-23T03:05:36.934445500Z",
     "start_time": "2024-01-23T03:05:36.904544400Z"
    }
   },
   "id": "d95274bfc61c60e9",
   "execution_count": 10
  },
  {
   "cell_type": "markdown",
   "source": [
    "### 使用线性回归和多项式回归拟合数据"
   ],
   "metadata": {
    "collapsed": false
   },
   "id": "65d58b8306c23693"
  },
  {
   "cell_type": "code",
   "outputs": [
    {
     "data": {
      "text/plain": "array([[1.000e+00, 0.000e+00, 0.000e+00, 0.000e+00, 0.000e+00],\n       [1.000e+00, 2.000e+01, 4.000e+02, 8.000e+03, 1.600e+05],\n       [1.000e+00, 4.000e+01, 1.600e+03, 6.400e+04, 2.560e+06],\n       [1.000e+00, 6.000e+01, 3.600e+03, 2.160e+05, 1.296e+07],\n       [1.000e+00, 8.000e+01, 6.400e+03, 5.120e+05, 4.096e+07],\n       [1.000e+00, 1.000e+02, 1.000e+04, 1.000e+06, 1.000e+08]])"
     },
     "execution_count": 11,
     "metadata": {},
     "output_type": "execute_result"
    }
   ],
   "source": [
    "from sklearn.linear_model import LinearRegression\n",
    "from sklearn.preprocessing import PolynomialFeatures\n",
    "\n",
    "# LinearRegression\n",
    "lin=LinearRegression()\n",
    "lin.fit(X,Y)\n",
    "\n",
    "# PolynomialRegression\n",
    "poly=PolynomialFeatures(degree= 4) #最高次数为4\n",
    "X_poly=poly.fit_transform(X)\n",
    "poly.fit(X_poly,Y)\n",
    "lin2=LinearRegression()\n",
    "lin2.fit(X_poly,Y)\n",
    "X_poly"
   ],
   "metadata": {
    "collapsed": false,
    "ExecuteTime": {
     "end_time": "2024-01-23T03:05:39.567354200Z",
     "start_time": "2024-01-23T03:05:36.926933500Z"
    }
   },
   "id": "d0fdeea88f084755",
   "execution_count": 11
  },
  {
   "cell_type": "code",
   "outputs": [
    {
     "data": {
      "text/plain": "<Figure size 640x480 with 1 Axes>",
      "image/png": "[encoded data removed]"
     },
     "metadata": {},
     "output_type": "display_data"
    }
   ],
   "source": [
    "plt.scatter(X,Y,color='blue')\n",
    "plt.plot(X,lin.predict(X),color='red')\n",
    "plt.plot(X,lin2.predict(poly.fit_transform(X)),color='green')\n",
    "\n",
    "plt.show()"
   ],
   "metadata": {
    "collapsed": false,
    "ExecuteTime": {
     "end_time": "2024-01-23T03:05:39.769500900Z",
     "start_time": "2024-01-23T03:05:39.552006300Z"
    }
   },
   "id": "135c5a42684d0bfc",
   "execution_count": 12
  },
  {
   "cell_type": "markdown",
   "source": [
    "可以注意到，多项式回归比线性回归更符合散点的分布"
   ],
   "metadata": {
    "collapsed": false
   },
   "id": "3d334c546b700e8"
  },
  {
   "cell_type": "code",
   "outputs": [
    {
     "data": {
      "text/plain": "(array([0.20675333]), array([0.43295877]))"
     },
     "execution_count": 13,
     "metadata": {},
     "output_type": "execute_result"
    }
   ],
   "source": [
    "pred_1=lin.predict([[110]])\n",
    "pred_2=lin2.predict(poly.fit_transform([[110]]))\n",
    "pred_1,pred_2"
   ],
   "metadata": {
    "collapsed": false,
    "ExecuteTime": {
     "end_time": "2024-01-23T03:05:39.788664800Z",
     "start_time": "2024-01-23T03:05:39.778298200Z"
    }
   },
   "id": "aee3dce55f51664d",
   "execution_count": 13
  }
 ],
 "metadata": {
  "kernelspec": {
   "display_name": "Python 3",
   "language": "python",
   "name": "python3"
  },
  "language_info": {
   "codemirror_mode": {
    "name": "ipython",
    "version": 2
   },
   "file_extension": ".py",
   "mimetype": "text/x-python",
   "name": "python",
   "nbconvert_exporter": "python",
   "pygments_lexer": "ipython2",
   "version": "2.7.6"
  }
 },
 "nbformat": 4,
 "nbformat_minor": 5
}
