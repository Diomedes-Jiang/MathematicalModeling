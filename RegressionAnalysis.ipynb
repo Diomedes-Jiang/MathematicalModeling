{
 "cells": [
  {
   "cell_type": "markdown",
   "source": [
    "# 直线回归"
   ],
   "metadata": {
    "collapsed": false
   },
   "id": "2c27ff47e7b6722d"
  },
  {
   "cell_type": "code",
   "outputs": [],
   "source": [
    "import numpy as np"
   ],
   "metadata": {
    "collapsed": false,
    "ExecuteTime": {
     "end_time": "2024-01-21T09:26:05.919164100Z",
     "start_time": "2024-01-21T09:26:05.851999400Z"
    }
   },
   "id": "9c9efba82b3e6141",
   "execution_count": 22
  },
  {
   "cell_type": "markdown",
   "source": [
    "## 最小二乘法"
   ],
   "metadata": {
    "collapsed": false
   },
   "id": "8055dea39800f650"
  },
  {
   "cell_type": "code",
   "execution_count": 23,
   "id": "initial_id",
   "metadata": {
    "collapsed": true,
    "ExecuteTime": {
     "end_time": "2024-01-21T09:26:05.948343400Z",
     "start_time": "2024-01-21T09:26:05.927547400Z"
    }
   },
   "outputs": [],
   "source": [
    "def ordinaryLeastSquares(X,Y):\n",
    "    # 最小二乘法的原理是尽可能使得观察值y'与真实值y的偏差量小，使用偏差的平方和作为标准，平方和求导为0时平方和最小，求出此时拟合直线斜率和截距即可\n",
    "    k=(len(X)*sum(X*Y)-sum(X)*sum(Y))/(len(X)*sum(X*X)-sum(X)**2)\n",
    "    b=Y.mean()-k*X.mean()\n",
    "    return k,b"
   ]
  },
  {
   "cell_type": "markdown",
   "source": [
    "身高：143,145,146,147,149,150,153,154,155,156,157,158,159,160,162,164\n",
    "腿长：88,85,88,91,92,93,93,95,96,98,97,96,98,99,100,102"
   ],
   "metadata": {
    "collapsed": false
   },
   "id": "2253f89e118ce99c"
  },
  {
   "cell_type": "code",
   "outputs": [],
   "source": [
    "X=np.array([143,145,146,147,149,150,153,154,155,156,157,158,159,160,162,164])\n",
    "Y=np.array([88,85,88,91,92,93,93,95,96,98,97,96,98,99,100,102])\n"
   ],
   "metadata": {
    "collapsed": false,
    "ExecuteTime": {
     "end_time": "2024-01-21T09:26:05.949412900Z",
     "start_time": "2024-01-21T09:26:05.940863500Z"
    }
   },
   "id": "ed7fc2262a3956e9",
   "execution_count": 24
  },
  {
   "cell_type": "code",
   "outputs": [
    {
     "data": {
      "text/plain": "(0.7193521935219352, -16.0729807298073)"
     },
     "execution_count": 25,
     "metadata": {},
     "output_type": "execute_result"
    }
   ],
   "source": [
    "k,b=ordinaryLeastSquares(X,Y)\n",
    "k,b"
   ],
   "metadata": {
    "collapsed": false,
    "ExecuteTime": {
     "end_time": "2024-01-21T09:26:06.003453600Z",
     "start_time": "2024-01-21T09:26:05.959068800Z"
    }
   },
   "id": "3e5277cde1dccb39",
   "execution_count": 25
  },
  {
   "cell_type": "code",
   "outputs": [
    {
     "data": {
      "text/plain": "array([102.6201312])"
     },
     "execution_count": 26,
     "metadata": {},
     "output_type": "execute_result"
    }
   ],
   "source": [
    "neo_X=np.array([165])\n",
    "neo_Y=k*neo_X+b\n",
    "neo_Y"
   ],
   "metadata": {
    "collapsed": false,
    "ExecuteTime": {
     "end_time": "2024-01-21T09:26:06.005526500Z",
     "start_time": "2024-01-21T09:26:05.971921Z"
    }
   },
   "id": "aa5cb59390d570ee",
   "execution_count": 26
  },
  {
   "cell_type": "markdown",
   "source": [
    "## 多元线性回归"
   ],
   "metadata": {
    "collapsed": false
   },
   "id": "b9756100548ad2dc"
  },
  {
   "cell_type": "markdown",
   "source": [
    "1. 对参数进行点估计，求出回归方程\n",
    "2. 对参数，模型进行检验\n",
    "3. 对y做点估计"
   ],
   "metadata": {
    "collapsed": false
   },
   "id": "409813f6bdfe3b16"
  },
  {
   "cell_type": "code",
   "outputs": [],
   "source": [
    "# 多元线性回归模型的参数估计\n",
    "def regression(X,Y):\n",
    "    return np.dot(np.linalg.inv((np.dot(np.transpose(X),X))),(np.dot(np.transpose(X),Y)))\n"
   ],
   "metadata": {
    "collapsed": false,
    "ExecuteTime": {
     "end_time": "2024-01-21T09:45:52.690999800Z",
     "start_time": "2024-01-21T09:45:52.644781Z"
    }
   },
   "id": "fbb7e4f5c6497651",
   "execution_count": 38
  },
  {
   "cell_type": "code",
   "outputs": [
    {
     "data": {
      "text/plain": "array([1.75])"
     },
     "execution_count": 41,
     "metadata": {},
     "output_type": "execute_result"
    }
   ],
   "source": [
    "x=np.array([[1,3,4,6],[3,2,5,3],[9,7,5,6]])\n",
    "y=np.array([[1],[3],[6]])\n",
    "beta=regression(x,y)\n",
    "test_x=np.array([1,2,3,4])\n",
    "test_y=np.dot(test_x,beta)\n",
    "test_y"
   ],
   "metadata": {
    "collapsed": false,
    "ExecuteTime": {
     "end_time": "2024-01-21T09:47:24.331716300Z",
     "start_time": "2024-01-21T09:47:24.308954500Z"
    }
   },
   "id": "405c87a0e573a2a2",
   "execution_count": 41
  }
 ],
 "metadata": {
  "kernelspec": {
   "display_name": "Python 3",
   "language": "python",
   "name": "python3"
  },
  "language_info": {
   "codemirror_mode": {
    "name": "ipython",
    "version": 2
   },
   "file_extension": ".py",
   "mimetype": "text/x-python",
   "name": "python",
   "nbconvert_exporter": "python",
   "pygments_lexer": "ipython2",
   "version": "2.7.6"
  }
 },
 "nbformat": 4,
 "nbformat_minor": 5
}
