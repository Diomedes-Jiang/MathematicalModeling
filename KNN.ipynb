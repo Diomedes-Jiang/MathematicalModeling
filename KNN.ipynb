{
 "cells": [
  {
   "cell_type": "markdown",
   "source": [
    "## 身高体重进行性别分类"
   ],
   "metadata": {
    "collapsed": false
   },
   "id": "16ff03988c21ff30"
  },
  {
   "cell_type": "code",
   "execution_count": 21,
   "id": "initial_id",
   "metadata": {
    "collapsed": true,
    "ExecuteTime": {
     "end_time": "2024-01-31T02:05:12.617367700Z",
     "start_time": "2024-01-31T02:05:12.395728800Z"
    }
   },
   "outputs": [],
   "source": [
    "import numpy as np\n",
    "from matplotlib import pyplot as plt\n",
    "X=np.array([\n",
    "    [158,64],\n",
    "    [170,66],\n",
    "    [183,84],\n",
    "    [191,80],\n",
    "    [155,49],\n",
    "    [163,59],\n",
    "    [180,67],\n",
    "    [158,54],\n",
    "    [178,77]\n",
    "])\n",
    "Y=['male','male','male','male','female','female','female','female','female']\n"
   ]
  },
  {
   "cell_type": "markdown",
   "source": [
    "绘制出数据表示"
   ],
   "metadata": {
    "collapsed": false
   },
   "id": "f16b158c39c846ea"
  },
  {
   "cell_type": "code",
   "outputs": [
    {
     "data": {
      "text/plain": "<Figure size 640x480 with 1 Axes>",
      "image/png": "[encoded data removed]"
     },
     "metadata": {},
     "output_type": "display_data"
    }
   ],
   "source": [
    "plt.figure()\n",
    "for i, x in enumerate(X):\n",
    "    plt.scatter(x[0],x[1],c='k',marker='o' if Y[i]=='male' else 'x')\n",
    "plt.grid(True)\n",
    "plt.show()"
   ],
   "metadata": {
    "collapsed": false,
    "ExecuteTime": {
     "end_time": "2024-01-31T02:05:13.084558900Z",
     "start_time": "2024-01-31T02:05:12.581888100Z"
    }
   },
   "id": "4ede780152e587f0",
   "execution_count": 22
  },
  {
   "cell_type": "markdown",
   "source": [
    "对身高155，体重70的样本进行预测\n",
    "- 计量该样本对所有训练集的欧氏距离"
   ],
   "metadata": {
    "collapsed": false
   },
   "id": "6f9b5ce129b30316"
  },
  {
   "cell_type": "code",
   "outputs": [
    {
     "data": {
      "text/plain": "array([[158,  64],\n       [170,  66],\n       [183,  84],\n       [191,  80],\n       [155,  49],\n       [163,  59],\n       [180,  67],\n       [158,  54],\n       [178,  77]])"
     },
     "execution_count": 23,
     "metadata": {},
     "output_type": "execute_result"
    }
   ],
   "source": [
    "X"
   ],
   "metadata": {
    "collapsed": false,
    "ExecuteTime": {
     "end_time": "2024-01-31T02:05:13.114437500Z",
     "start_time": "2024-01-31T02:05:13.088648800Z"
    }
   },
   "id": "250a6bef2141b7df",
   "execution_count": 23
  },
  {
   "cell_type": "code",
   "outputs": [
    {
     "data": {
      "text/plain": "[6.708203932499369,\n 15.524174696260024,\n 31.304951684997057,\n 37.36308338453881,\n 21.0,\n 13.601470508735444,\n 25.179356624028344,\n 16.278820596099706,\n 24.041630560342615]"
     },
     "execution_count": 24,
     "metadata": {},
     "output_type": "execute_result"
    }
   ],
   "source": [
    "x_test=np.array([155,70])\n",
    "distance=[]\n",
    "for i in range(len(X)):\n",
    "    distance.append(np.sqrt(np.square(x_test[1]-X[i,1])+np.square(x_test[0]-X[i,0])))\n",
    "\n",
    "distance"
   ],
   "metadata": {
    "collapsed": false,
    "ExecuteTime": {
     "end_time": "2024-01-31T02:05:13.273589400Z",
     "start_time": "2024-01-31T02:05:13.099227200Z"
    }
   },
   "id": "2236fe59cd18f92e",
   "execution_count": 24
  },
  {
   "cell_type": "code",
   "outputs": [
    {
     "data": {
      "text/plain": "array(['male', 'female', 'male'], dtype='<U6')"
     },
     "execution_count": 25,
     "metadata": {},
     "output_type": "execute_result"
    }
   ],
   "source": [
    "distance=np.array(distance)\n",
    "nearest_neighbor_indices = distance.argsort()[:3] \n",
    "nearest_neighbor_genders = np.take(Y, nearest_neighbor_indices) \n",
    "nearest_neighbor_genders"
   ],
   "metadata": {
    "collapsed": false,
    "ExecuteTime": {
     "end_time": "2024-01-31T02:05:13.275045100Z",
     "start_time": "2024-01-31T02:05:13.126411700Z"
    }
   },
   "id": "e96cc263e383ecf5",
   "execution_count": 25
  },
  {
   "cell_type": "code",
   "outputs": [
    {
     "data": {
      "text/plain": "'male'"
     },
     "execution_count": 26,
     "metadata": {},
     "output_type": "execute_result"
    }
   ],
   "source": [
    "from collections import Counter \n",
    "b = Counter(np.take(Y, distance.argsort()[:3])) \n",
    "b.most_common(1)[0][0]"
   ],
   "metadata": {
    "collapsed": false,
    "ExecuteTime": {
     "end_time": "2024-01-31T02:05:13.373828200Z",
     "start_time": "2024-01-31T02:05:13.142774500Z"
    }
   },
   "id": "f7a6eaa58c8acd23",
   "execution_count": 26
  },
  {
   "cell_type": "markdown",
   "source": [
    "最终预测为男性，可能是初始数据有问题"
   ],
   "metadata": {
    "collapsed": false
   },
   "id": "46d0b9da9f67d4d2"
  },
  {
   "cell_type": "code",
   "outputs": [
    {
     "data": {
      "text/plain": "array([[1],\n       [1],\n       [1],\n       [1],\n       [0],\n       [0],\n       [0],\n       [0],\n       [0]])"
     },
     "execution_count": 27,
     "metadata": {},
     "output_type": "execute_result"
    }
   ],
   "source": [
    "# 使用sklearn工具进行处理\n",
    "from sklearn.preprocessing import LabelBinarizer\n",
    "from sklearn.neighbors import KNeighborsClassifier\n",
    "\n",
    "# 将性别标签编码为向量 \n",
    "lb=LabelBinarizer()\n",
    "y_train_binarized=lb.fit_transform(Y)\n",
    "y_train_binarized"
   ],
   "metadata": {
    "collapsed": false,
    "ExecuteTime": {
     "end_time": "2024-01-31T02:05:13.377266800Z",
     "start_time": "2024-01-31T02:05:13.157678500Z"
    }
   },
   "id": "4a0ce86e70509e90",
   "execution_count": 27
  },
  {
   "cell_type": "code",
   "outputs": [
    {
     "data": {
      "text/plain": "array([0])"
     },
     "execution_count": 28,
     "metadata": {},
     "output_type": "execute_result"
    }
   ],
   "source": [
    "K=6\n",
    "clf=KNeighborsClassifier(n_neighbors=K)\n",
    "clf.fit(X,y_train_binarized.reshape(-1))\n",
    "predictions_binarized=clf.predict(np.array([155,70]).reshape(1,-1))\n",
    "predictions_binarized"
   ],
   "metadata": {
    "collapsed": false,
    "ExecuteTime": {
     "end_time": "2024-01-31T02:05:13.410086800Z",
     "start_time": "2024-01-31T02:05:13.179256900Z"
    }
   },
   "id": "e526caede1df7fb0",
   "execution_count": 28
  },
  {
   "cell_type": "code",
   "outputs": [
    {
     "data": {
      "text/plain": "array(['female'], dtype='<U6')"
     },
     "execution_count": 29,
     "metadata": {},
     "output_type": "execute_result"
    }
   ],
   "source": [
    "prediction=lb.inverse_transform(predictions_binarized)\n",
    "prediction"
   ],
   "metadata": {
    "collapsed": false,
    "ExecuteTime": {
     "end_time": "2024-01-31T02:05:13.412363700Z",
     "start_time": "2024-01-31T02:05:13.199789800Z"
    }
   },
   "id": "df05c8e269786b89",
   "execution_count": 29
  },
  {
   "cell_type": "markdown",
   "source": [
    "在考虑了6个邻居的条件下做出了正确的预测"
   ],
   "metadata": {
    "collapsed": false
   },
   "id": "c33629bbd94a3e3b"
  },
  {
   "cell_type": "markdown",
   "source": [
    "现在，对刚刚训练的这个模型做一个评估"
   ],
   "metadata": {
    "collapsed": false
   },
   "id": "e59a977c6177b940"
  },
  {
   "cell_type": "code",
   "outputs": [],
   "source": [
    "x_test=np.array([\n",
    "    [168,65],\n",
    "    [170,61],\n",
    "    [160,53],\n",
    "    [169,67]\n",
    "])\n",
    "y_test=['male','male','female','female']"
   ],
   "metadata": {
    "collapsed": false,
    "ExecuteTime": {
     "end_time": "2024-01-31T02:05:13.413621100Z",
     "start_time": "2024-01-31T02:05:13.214296400Z"
    }
   },
   "id": "bfac0aa0dc715b3c",
   "execution_count": 30
  },
  {
   "cell_type": "code",
   "outputs": [
    {
     "name": "stdout",
     "output_type": "stream",
     "text": [
      "prediction binarized: [0 0 0 0]\n",
      "prediction ['female' 'female' 'female' 'female']\n",
      "the score of this model is 0.0\n"
     ]
    }
   ],
   "source": [
    "y_test_binarized=lb.transform(y_test)\n",
    "predictions_binarized=clf.predict(x_test)\n",
    "print(f'prediction binarized: {predictions_binarized}')\n",
    "print(f'prediction {lb.inverse_transform(predictions_binarized)}')\n",
    "print(f'the score of this model is {clf.score(x_test,y_test)}')"
   ],
   "metadata": {
    "collapsed": false,
    "ExecuteTime": {
     "end_time": "2024-01-31T02:05:13.415687400Z",
     "start_time": "2024-01-31T02:05:13.227316Z"
    }
   },
   "id": "7f9cf20b7dccb1a3",
   "execution_count": 31
  },
  {
   "cell_type": "code",
   "outputs": [],
   "source": [],
   "metadata": {
    "collapsed": false,
    "ExecuteTime": {
     "end_time": "2024-01-31T02:05:13.441423700Z",
     "start_time": "2024-01-31T02:05:13.253086600Z"
    }
   },
   "id": "869722f9f34b4d4",
   "execution_count": 31
  }
 ],
 "metadata": {
  "kernelspec": {
   "display_name": "Python 3",
   "language": "python",
   "name": "python3"
  },
  "language_info": {
   "codemirror_mode": {
    "name": "ipython",
    "version": 2
   },
   "file_extension": ".py",
   "mimetype": "text/x-python",
   "name": "python",
   "nbconvert_exporter": "python",
   "pygments_lexer": "ipython2",
   "version": "2.7.6"
  }
 },
 "nbformat": 4,
 "nbformat_minor": 5
}
